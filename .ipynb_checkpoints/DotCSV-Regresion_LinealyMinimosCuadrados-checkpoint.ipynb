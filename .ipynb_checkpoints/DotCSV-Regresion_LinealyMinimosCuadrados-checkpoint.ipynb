{
 "cells": [
  {
   "cell_type": "markdown",
   "metadata": {},
   "source": [
    "# Inteligencia Artifical "
   ]
  },
  {
   "cell_type": "markdown",
   "metadata": {},
   "source": [
    "## Regresion Linear y Minimos Cuadrados Ordinarios"
   ]
  },
  {
   "cell_type": "code",
   "execution_count": 147,
   "metadata": {},
   "outputs": [],
   "source": [
    "#Librerias utiles\n",
    "import numpy as np\n",
    "import matplotlib.pyplot as plt\n",
    "import pandas as pd\n",
    "from sklearn.datasets import load_boston # Esta libreria tiene sus csv para probar"
   ]
  },
  {
   "cell_type": "code",
   "execution_count": 148,
   "metadata": {},
   "outputs": [],
   "source": [
    "boston = load_boston()"
   ]
  },
  {
   "cell_type": "code",
   "execution_count": 149,
   "metadata": {
    "scrolled": true
   },
   "outputs": [
    {
     "name": "stdout",
     "output_type": "stream",
     "text": [
      ".. _boston_dataset:\n",
      "\n",
      "Boston house prices dataset\n",
      "---------------------------\n",
      "\n",
      "**Data Set Characteristics:**  \n",
      "\n",
      "    :Number of Instances: 506 \n",
      "\n",
      "    :Number of Attributes: 13 numeric/categorical predictive. Median Value (attribute 14) is usually the target.\n",
      "\n",
      "    :Attribute Information (in order):\n",
      "        - CRIM     per capita crime rate by town\n",
      "        - ZN       proportion of residential land zoned for lots over 25,000 sq.ft.\n",
      "        - INDUS    proportion of non-retail business acres per town\n",
      "        - CHAS     Charles River dummy variable (= 1 if tract bounds river; 0 otherwise)\n",
      "        - NOX      nitric oxides concentration (parts per 10 million)\n",
      "        - RM       average number of rooms per dwelling\n",
      "        - AGE      proportion of owner-occupied units built prior to 1940\n",
      "        - DIS      weighted distances to five Boston employment centres\n",
      "        - RAD      index of accessibility to radial highways\n",
      "        - TAX      full-value property-tax rate per $10,000\n",
      "        - PTRATIO  pupil-teacher ratio by town\n",
      "        - B        1000(Bk - 0.63)^2 where Bk is the proportion of blacks by town\n",
      "        - LSTAT    % lower status of the population\n",
      "        - MEDV     Median value of owner-occupied homes in $1000's\n",
      "\n",
      "    :Missing Attribute Values: None\n",
      "\n",
      "    :Creator: Harrison, D. and Rubinfeld, D.L.\n",
      "\n",
      "This is a copy of UCI ML housing dataset.\n",
      "https://archive.ics.uci.edu/ml/machine-learning-databases/housing/\n",
      "\n",
      "\n",
      "This dataset was taken from the StatLib library which is maintained at Carnegie Mellon University.\n",
      "\n",
      "The Boston house-price data of Harrison, D. and Rubinfeld, D.L. 'Hedonic\n",
      "prices and the demand for clean air', J. Environ. Economics & Management,\n",
      "vol.5, 81-102, 1978.   Used in Belsley, Kuh & Welsch, 'Regression diagnostics\n",
      "...', Wiley, 1980.   N.B. Various transformations are used in the table on\n",
      "pages 244-261 of the latter.\n",
      "\n",
      "The Boston house-price data has been used in many machine learning papers that address regression\n",
      "problems.   \n",
      "     \n",
      ".. topic:: References\n",
      "\n",
      "   - Belsley, Kuh & Welsch, 'Regression diagnostics: Identifying Influential Data and Sources of Collinearity', Wiley, 1980. 244-261.\n",
      "   - Quinlan,R. (1993). Combining Instance-Based and Model-Based Learning. In Proceedings on the Tenth International Conference of Machine Learning, 236-243, University of Massachusetts, Amherst. Morgan Kaufmann.\n",
      "\n"
     ]
    }
   ],
   "source": [
    "print(boston.DESCR) # Permite ver la descripcion del data set"
   ]
  },
  {
   "cell_type": "code",
   "execution_count": 150,
   "metadata": {},
   "outputs": [],
   "source": [
    "df = pd.DataFrame(boston.data)"
   ]
  },
  {
   "cell_type": "code",
   "execution_count": 151,
   "metadata": {},
   "outputs": [
    {
     "data": {
      "text/html": [
       "<div>\n",
       "<style scoped>\n",
       "    .dataframe tbody tr th:only-of-type {\n",
       "        vertical-align: middle;\n",
       "    }\n",
       "\n",
       "    .dataframe tbody tr th {\n",
       "        vertical-align: top;\n",
       "    }\n",
       "\n",
       "    .dataframe thead th {\n",
       "        text-align: right;\n",
       "    }\n",
       "</style>\n",
       "<table border=\"1\" class=\"dataframe\">\n",
       "  <thead>\n",
       "    <tr style=\"text-align: right;\">\n",
       "      <th></th>\n",
       "      <th>0</th>\n",
       "      <th>1</th>\n",
       "      <th>2</th>\n",
       "      <th>3</th>\n",
       "      <th>4</th>\n",
       "      <th>5</th>\n",
       "      <th>6</th>\n",
       "      <th>7</th>\n",
       "      <th>8</th>\n",
       "      <th>9</th>\n",
       "      <th>10</th>\n",
       "      <th>11</th>\n",
       "      <th>12</th>\n",
       "    </tr>\n",
       "  </thead>\n",
       "  <tbody>\n",
       "    <tr>\n",
       "      <th>0</th>\n",
       "      <td>0.00632</td>\n",
       "      <td>18.0</td>\n",
       "      <td>2.31</td>\n",
       "      <td>0.0</td>\n",
       "      <td>0.538</td>\n",
       "      <td>6.575</td>\n",
       "      <td>65.2</td>\n",
       "      <td>4.0900</td>\n",
       "      <td>1.0</td>\n",
       "      <td>296.0</td>\n",
       "      <td>15.3</td>\n",
       "      <td>396.90</td>\n",
       "      <td>4.98</td>\n",
       "    </tr>\n",
       "    <tr>\n",
       "      <th>1</th>\n",
       "      <td>0.02731</td>\n",
       "      <td>0.0</td>\n",
       "      <td>7.07</td>\n",
       "      <td>0.0</td>\n",
       "      <td>0.469</td>\n",
       "      <td>6.421</td>\n",
       "      <td>78.9</td>\n",
       "      <td>4.9671</td>\n",
       "      <td>2.0</td>\n",
       "      <td>242.0</td>\n",
       "      <td>17.8</td>\n",
       "      <td>396.90</td>\n",
       "      <td>9.14</td>\n",
       "    </tr>\n",
       "    <tr>\n",
       "      <th>2</th>\n",
       "      <td>0.02729</td>\n",
       "      <td>0.0</td>\n",
       "      <td>7.07</td>\n",
       "      <td>0.0</td>\n",
       "      <td>0.469</td>\n",
       "      <td>7.185</td>\n",
       "      <td>61.1</td>\n",
       "      <td>4.9671</td>\n",
       "      <td>2.0</td>\n",
       "      <td>242.0</td>\n",
       "      <td>17.8</td>\n",
       "      <td>392.83</td>\n",
       "      <td>4.03</td>\n",
       "    </tr>\n",
       "    <tr>\n",
       "      <th>3</th>\n",
       "      <td>0.03237</td>\n",
       "      <td>0.0</td>\n",
       "      <td>2.18</td>\n",
       "      <td>0.0</td>\n",
       "      <td>0.458</td>\n",
       "      <td>6.998</td>\n",
       "      <td>45.8</td>\n",
       "      <td>6.0622</td>\n",
       "      <td>3.0</td>\n",
       "      <td>222.0</td>\n",
       "      <td>18.7</td>\n",
       "      <td>394.63</td>\n",
       "      <td>2.94</td>\n",
       "    </tr>\n",
       "    <tr>\n",
       "      <th>4</th>\n",
       "      <td>0.06905</td>\n",
       "      <td>0.0</td>\n",
       "      <td>2.18</td>\n",
       "      <td>0.0</td>\n",
       "      <td>0.458</td>\n",
       "      <td>7.147</td>\n",
       "      <td>54.2</td>\n",
       "      <td>6.0622</td>\n",
       "      <td>3.0</td>\n",
       "      <td>222.0</td>\n",
       "      <td>18.7</td>\n",
       "      <td>396.90</td>\n",
       "      <td>5.33</td>\n",
       "    </tr>\n",
       "  </tbody>\n",
       "</table>\n",
       "</div>"
      ],
      "text/plain": [
       "        0     1     2    3      4      5     6       7    8      9     10  \\\n",
       "0  0.00632  18.0  2.31  0.0  0.538  6.575  65.2  4.0900  1.0  296.0  15.3   \n",
       "1  0.02731   0.0  7.07  0.0  0.469  6.421  78.9  4.9671  2.0  242.0  17.8   \n",
       "2  0.02729   0.0  7.07  0.0  0.469  7.185  61.1  4.9671  2.0  242.0  17.8   \n",
       "3  0.03237   0.0  2.18  0.0  0.458  6.998  45.8  6.0622  3.0  222.0  18.7   \n",
       "4  0.06905   0.0  2.18  0.0  0.458  7.147  54.2  6.0622  3.0  222.0  18.7   \n",
       "\n",
       "       11    12  \n",
       "0  396.90  4.98  \n",
       "1  396.90  9.14  \n",
       "2  392.83  4.03  \n",
       "3  394.63  2.94  \n",
       "4  396.90  5.33  "
      ]
     },
     "execution_count": 151,
     "metadata": {},
     "output_type": "execute_result"
    }
   ],
   "source": [
    "df.head()"
   ]
  },
  {
   "cell_type": "code",
   "execution_count": 152,
   "metadata": {},
   "outputs": [],
   "source": [
    "columns= ['CRIM', 'ZN', 'INDUS', 'CHAS', 'NOX', 'RM', 'AGE','DIS', 'RAD', 'TAX', 'PTRATIO', 'B', 'LSTAT']"
   ]
  },
  {
   "cell_type": "code",
   "execution_count": 153,
   "metadata": {},
   "outputs": [],
   "source": [
    "df = pd.DataFrame(boston.data, columns= columns)"
   ]
  },
  {
   "cell_type": "code",
   "execution_count": 154,
   "metadata": {},
   "outputs": [
    {
     "data": {
      "text/html": [
       "<div>\n",
       "<style scoped>\n",
       "    .dataframe tbody tr th:only-of-type {\n",
       "        vertical-align: middle;\n",
       "    }\n",
       "\n",
       "    .dataframe tbody tr th {\n",
       "        vertical-align: top;\n",
       "    }\n",
       "\n",
       "    .dataframe thead th {\n",
       "        text-align: right;\n",
       "    }\n",
       "</style>\n",
       "<table border=\"1\" class=\"dataframe\">\n",
       "  <thead>\n",
       "    <tr style=\"text-align: right;\">\n",
       "      <th></th>\n",
       "      <th>CRIM</th>\n",
       "      <th>ZN</th>\n",
       "      <th>INDUS</th>\n",
       "      <th>CHAS</th>\n",
       "      <th>NOX</th>\n",
       "      <th>RM</th>\n",
       "      <th>AGE</th>\n",
       "      <th>DIS</th>\n",
       "      <th>RAD</th>\n",
       "      <th>TAX</th>\n",
       "      <th>PTRATIO</th>\n",
       "      <th>B</th>\n",
       "      <th>LSTAT</th>\n",
       "    </tr>\n",
       "  </thead>\n",
       "  <tbody>\n",
       "    <tr>\n",
       "      <th>0</th>\n",
       "      <td>0.00632</td>\n",
       "      <td>18.0</td>\n",
       "      <td>2.31</td>\n",
       "      <td>0.0</td>\n",
       "      <td>0.538</td>\n",
       "      <td>6.575</td>\n",
       "      <td>65.2</td>\n",
       "      <td>4.0900</td>\n",
       "      <td>1.0</td>\n",
       "      <td>296.0</td>\n",
       "      <td>15.3</td>\n",
       "      <td>396.90</td>\n",
       "      <td>4.98</td>\n",
       "    </tr>\n",
       "    <tr>\n",
       "      <th>1</th>\n",
       "      <td>0.02731</td>\n",
       "      <td>0.0</td>\n",
       "      <td>7.07</td>\n",
       "      <td>0.0</td>\n",
       "      <td>0.469</td>\n",
       "      <td>6.421</td>\n",
       "      <td>78.9</td>\n",
       "      <td>4.9671</td>\n",
       "      <td>2.0</td>\n",
       "      <td>242.0</td>\n",
       "      <td>17.8</td>\n",
       "      <td>396.90</td>\n",
       "      <td>9.14</td>\n",
       "    </tr>\n",
       "    <tr>\n",
       "      <th>2</th>\n",
       "      <td>0.02729</td>\n",
       "      <td>0.0</td>\n",
       "      <td>7.07</td>\n",
       "      <td>0.0</td>\n",
       "      <td>0.469</td>\n",
       "      <td>7.185</td>\n",
       "      <td>61.1</td>\n",
       "      <td>4.9671</td>\n",
       "      <td>2.0</td>\n",
       "      <td>242.0</td>\n",
       "      <td>17.8</td>\n",
       "      <td>392.83</td>\n",
       "      <td>4.03</td>\n",
       "    </tr>\n",
       "    <tr>\n",
       "      <th>3</th>\n",
       "      <td>0.03237</td>\n",
       "      <td>0.0</td>\n",
       "      <td>2.18</td>\n",
       "      <td>0.0</td>\n",
       "      <td>0.458</td>\n",
       "      <td>6.998</td>\n",
       "      <td>45.8</td>\n",
       "      <td>6.0622</td>\n",
       "      <td>3.0</td>\n",
       "      <td>222.0</td>\n",
       "      <td>18.7</td>\n",
       "      <td>394.63</td>\n",
       "      <td>2.94</td>\n",
       "    </tr>\n",
       "    <tr>\n",
       "      <th>4</th>\n",
       "      <td>0.06905</td>\n",
       "      <td>0.0</td>\n",
       "      <td>2.18</td>\n",
       "      <td>0.0</td>\n",
       "      <td>0.458</td>\n",
       "      <td>7.147</td>\n",
       "      <td>54.2</td>\n",
       "      <td>6.0622</td>\n",
       "      <td>3.0</td>\n",
       "      <td>222.0</td>\n",
       "      <td>18.7</td>\n",
       "      <td>396.90</td>\n",
       "      <td>5.33</td>\n",
       "    </tr>\n",
       "  </tbody>\n",
       "</table>\n",
       "</div>"
      ],
      "text/plain": [
       "      CRIM    ZN  INDUS  CHAS    NOX     RM   AGE     DIS  RAD    TAX  \\\n",
       "0  0.00632  18.0   2.31   0.0  0.538  6.575  65.2  4.0900  1.0  296.0   \n",
       "1  0.02731   0.0   7.07   0.0  0.469  6.421  78.9  4.9671  2.0  242.0   \n",
       "2  0.02729   0.0   7.07   0.0  0.469  7.185  61.1  4.9671  2.0  242.0   \n",
       "3  0.03237   0.0   2.18   0.0  0.458  6.998  45.8  6.0622  3.0  222.0   \n",
       "4  0.06905   0.0   2.18   0.0  0.458  7.147  54.2  6.0622  3.0  222.0   \n",
       "\n",
       "   PTRATIO       B  LSTAT  \n",
       "0     15.3  396.90   4.98  \n",
       "1     17.8  396.90   9.14  \n",
       "2     17.8  392.83   4.03  \n",
       "3     18.7  394.63   2.94  \n",
       "4     18.7  396.90   5.33  "
      ]
     },
     "execution_count": 154,
     "metadata": {},
     "output_type": "execute_result"
    }
   ],
   "source": [
    "df.head()"
   ]
  },
  {
   "cell_type": "code",
   "execution_count": 155,
   "metadata": {},
   "outputs": [
    {
     "data": {
      "text/html": [
       "<div>\n",
       "<style scoped>\n",
       "    .dataframe tbody tr th:only-of-type {\n",
       "        vertical-align: middle;\n",
       "    }\n",
       "\n",
       "    .dataframe tbody tr th {\n",
       "        vertical-align: top;\n",
       "    }\n",
       "\n",
       "    .dataframe thead th {\n",
       "        text-align: right;\n",
       "    }\n",
       "</style>\n",
       "<table border=\"1\" class=\"dataframe\">\n",
       "  <thead>\n",
       "    <tr style=\"text-align: right;\">\n",
       "      <th></th>\n",
       "      <th>CRIM</th>\n",
       "      <th>ZN</th>\n",
       "      <th>INDUS</th>\n",
       "      <th>CHAS</th>\n",
       "      <th>NOX</th>\n",
       "      <th>RM</th>\n",
       "      <th>AGE</th>\n",
       "      <th>DIS</th>\n",
       "      <th>RAD</th>\n",
       "      <th>TAX</th>\n",
       "      <th>PTRATIO</th>\n",
       "      <th>B</th>\n",
       "      <th>LSTAT</th>\n",
       "    </tr>\n",
       "  </thead>\n",
       "  <tbody>\n",
       "    <tr>\n",
       "      <th>count</th>\n",
       "      <td>506.000000</td>\n",
       "      <td>506.000000</td>\n",
       "      <td>506.000000</td>\n",
       "      <td>506.000000</td>\n",
       "      <td>506.000000</td>\n",
       "      <td>506.000000</td>\n",
       "      <td>506.000000</td>\n",
       "      <td>506.000000</td>\n",
       "      <td>506.000000</td>\n",
       "      <td>506.000000</td>\n",
       "      <td>506.000000</td>\n",
       "      <td>506.000000</td>\n",
       "      <td>506.000000</td>\n",
       "    </tr>\n",
       "    <tr>\n",
       "      <th>mean</th>\n",
       "      <td>3.613524</td>\n",
       "      <td>11.363636</td>\n",
       "      <td>11.136779</td>\n",
       "      <td>0.069170</td>\n",
       "      <td>0.554695</td>\n",
       "      <td>6.284634</td>\n",
       "      <td>68.574901</td>\n",
       "      <td>3.795043</td>\n",
       "      <td>9.549407</td>\n",
       "      <td>408.237154</td>\n",
       "      <td>18.455534</td>\n",
       "      <td>356.674032</td>\n",
       "      <td>12.653063</td>\n",
       "    </tr>\n",
       "    <tr>\n",
       "      <th>std</th>\n",
       "      <td>8.601545</td>\n",
       "      <td>23.322453</td>\n",
       "      <td>6.860353</td>\n",
       "      <td>0.253994</td>\n",
       "      <td>0.115878</td>\n",
       "      <td>0.702617</td>\n",
       "      <td>28.148861</td>\n",
       "      <td>2.105710</td>\n",
       "      <td>8.707259</td>\n",
       "      <td>168.537116</td>\n",
       "      <td>2.164946</td>\n",
       "      <td>91.294864</td>\n",
       "      <td>7.141062</td>\n",
       "    </tr>\n",
       "    <tr>\n",
       "      <th>min</th>\n",
       "      <td>0.006320</td>\n",
       "      <td>0.000000</td>\n",
       "      <td>0.460000</td>\n",
       "      <td>0.000000</td>\n",
       "      <td>0.385000</td>\n",
       "      <td>3.561000</td>\n",
       "      <td>2.900000</td>\n",
       "      <td>1.129600</td>\n",
       "      <td>1.000000</td>\n",
       "      <td>187.000000</td>\n",
       "      <td>12.600000</td>\n",
       "      <td>0.320000</td>\n",
       "      <td>1.730000</td>\n",
       "    </tr>\n",
       "    <tr>\n",
       "      <th>25%</th>\n",
       "      <td>0.082045</td>\n",
       "      <td>0.000000</td>\n",
       "      <td>5.190000</td>\n",
       "      <td>0.000000</td>\n",
       "      <td>0.449000</td>\n",
       "      <td>5.885500</td>\n",
       "      <td>45.025000</td>\n",
       "      <td>2.100175</td>\n",
       "      <td>4.000000</td>\n",
       "      <td>279.000000</td>\n",
       "      <td>17.400000</td>\n",
       "      <td>375.377500</td>\n",
       "      <td>6.950000</td>\n",
       "    </tr>\n",
       "    <tr>\n",
       "      <th>50%</th>\n",
       "      <td>0.256510</td>\n",
       "      <td>0.000000</td>\n",
       "      <td>9.690000</td>\n",
       "      <td>0.000000</td>\n",
       "      <td>0.538000</td>\n",
       "      <td>6.208500</td>\n",
       "      <td>77.500000</td>\n",
       "      <td>3.207450</td>\n",
       "      <td>5.000000</td>\n",
       "      <td>330.000000</td>\n",
       "      <td>19.050000</td>\n",
       "      <td>391.440000</td>\n",
       "      <td>11.360000</td>\n",
       "    </tr>\n",
       "    <tr>\n",
       "      <th>75%</th>\n",
       "      <td>3.677083</td>\n",
       "      <td>12.500000</td>\n",
       "      <td>18.100000</td>\n",
       "      <td>0.000000</td>\n",
       "      <td>0.624000</td>\n",
       "      <td>6.623500</td>\n",
       "      <td>94.075000</td>\n",
       "      <td>5.188425</td>\n",
       "      <td>24.000000</td>\n",
       "      <td>666.000000</td>\n",
       "      <td>20.200000</td>\n",
       "      <td>396.225000</td>\n",
       "      <td>16.955000</td>\n",
       "    </tr>\n",
       "    <tr>\n",
       "      <th>max</th>\n",
       "      <td>88.976200</td>\n",
       "      <td>100.000000</td>\n",
       "      <td>27.740000</td>\n",
       "      <td>1.000000</td>\n",
       "      <td>0.871000</td>\n",
       "      <td>8.780000</td>\n",
       "      <td>100.000000</td>\n",
       "      <td>12.126500</td>\n",
       "      <td>24.000000</td>\n",
       "      <td>711.000000</td>\n",
       "      <td>22.000000</td>\n",
       "      <td>396.900000</td>\n",
       "      <td>37.970000</td>\n",
       "    </tr>\n",
       "  </tbody>\n",
       "</table>\n",
       "</div>"
      ],
      "text/plain": [
       "             CRIM          ZN       INDUS        CHAS         NOX          RM  \\\n",
       "count  506.000000  506.000000  506.000000  506.000000  506.000000  506.000000   \n",
       "mean     3.613524   11.363636   11.136779    0.069170    0.554695    6.284634   \n",
       "std      8.601545   23.322453    6.860353    0.253994    0.115878    0.702617   \n",
       "min      0.006320    0.000000    0.460000    0.000000    0.385000    3.561000   \n",
       "25%      0.082045    0.000000    5.190000    0.000000    0.449000    5.885500   \n",
       "50%      0.256510    0.000000    9.690000    0.000000    0.538000    6.208500   \n",
       "75%      3.677083   12.500000   18.100000    0.000000    0.624000    6.623500   \n",
       "max     88.976200  100.000000   27.740000    1.000000    0.871000    8.780000   \n",
       "\n",
       "              AGE         DIS         RAD         TAX     PTRATIO           B  \\\n",
       "count  506.000000  506.000000  506.000000  506.000000  506.000000  506.000000   \n",
       "mean    68.574901    3.795043    9.549407  408.237154   18.455534  356.674032   \n",
       "std     28.148861    2.105710    8.707259  168.537116    2.164946   91.294864   \n",
       "min      2.900000    1.129600    1.000000  187.000000   12.600000    0.320000   \n",
       "25%     45.025000    2.100175    4.000000  279.000000   17.400000  375.377500   \n",
       "50%     77.500000    3.207450    5.000000  330.000000   19.050000  391.440000   \n",
       "75%     94.075000    5.188425   24.000000  666.000000   20.200000  396.225000   \n",
       "max    100.000000   12.126500   24.000000  711.000000   22.000000  396.900000   \n",
       "\n",
       "            LSTAT  \n",
       "count  506.000000  \n",
       "mean    12.653063  \n",
       "std      7.141062  \n",
       "min      1.730000  \n",
       "25%      6.950000  \n",
       "50%     11.360000  \n",
       "75%     16.955000  \n",
       "max     37.970000  "
      ]
     },
     "execution_count": 155,
     "metadata": {},
     "output_type": "execute_result"
    }
   ],
   "source": [
    "df.describe()"
   ]
  },
  {
   "cell_type": "code",
   "execution_count": 156,
   "metadata": {},
   "outputs": [
    {
     "data": {
      "text/plain": [
       "(506, 13)"
      ]
     },
     "execution_count": 156,
     "metadata": {},
     "output_type": "execute_result"
    }
   ],
   "source": [
    "df.shape"
   ]
  },
  {
   "cell_type": "code",
   "execution_count": 157,
   "metadata": {},
   "outputs": [
    {
     "data": {
      "text/plain": [
       "array([6.575, 6.421, 7.185, 6.998, 7.147, 6.43 , 6.012, 6.172, 5.631,\n",
       "       6.004, 6.377, 6.009, 5.889, 5.949, 6.096, 5.834, 5.935, 5.99 ,\n",
       "       5.456, 5.727, 5.57 , 5.965, 6.142, 5.813, 5.924, 5.599, 5.813,\n",
       "       6.047, 6.495, 6.674, 5.713, 6.072, 5.95 , 5.701, 6.096, 5.933,\n",
       "       5.841, 5.85 , 5.966, 6.595, 7.024, 6.77 , 6.169, 6.211, 6.069,\n",
       "       5.682, 5.786, 6.03 , 5.399, 5.602, 5.963, 6.115, 6.511, 5.998,\n",
       "       5.888, 7.249, 6.383, 6.816, 6.145, 5.927, 5.741, 5.966, 6.456,\n",
       "       6.762, 7.104, 6.29 , 5.787, 5.878, 5.594, 5.885, 6.417, 5.961,\n",
       "       6.065, 6.245, 6.273, 6.286, 6.279, 6.14 , 6.232, 5.874, 6.727,\n",
       "       6.619, 6.302, 6.167, 6.389, 6.63 , 6.015, 6.121, 7.007, 7.079,\n",
       "       6.417, 6.405, 6.442, 6.211, 6.249, 6.625, 6.163, 8.069, 7.82 ,\n",
       "       7.416, 6.727, 6.781, 6.405, 6.137, 6.167, 5.851, 5.836, 6.127,\n",
       "       6.474, 6.229, 6.195, 6.715, 5.913, 6.092, 6.254, 5.928, 6.176,\n",
       "       6.021, 5.872, 5.731, 5.87 , 6.004, 5.961, 5.856, 5.879, 5.986,\n",
       "       5.613, 5.693, 6.431, 5.637, 6.458, 6.326, 6.372, 5.822, 5.757,\n",
       "       6.335, 5.942, 6.454, 5.857, 6.151, 6.174, 5.019, 5.403, 5.468,\n",
       "       4.903, 6.13 , 5.628, 4.926, 5.186, 5.597, 6.122, 5.404, 5.012,\n",
       "       5.709, 6.129, 6.152, 5.272, 6.943, 6.066, 6.51 , 6.25 , 7.489,\n",
       "       7.802, 8.375, 5.854, 6.101, 7.929, 5.877, 6.319, 6.402, 5.875,\n",
       "       5.88 , 5.572, 6.416, 5.859, 6.546, 6.02 , 6.315, 6.86 , 6.98 ,\n",
       "       7.765, 6.144, 7.155, 6.563, 5.604, 6.153, 7.831, 6.782, 6.556,\n",
       "       7.185, 6.951, 6.739, 7.178, 6.8  , 6.604, 7.875, 7.287, 7.107,\n",
       "       7.274, 6.975, 7.135, 6.162, 7.61 , 7.853, 8.034, 5.891, 6.326,\n",
       "       5.783, 6.064, 5.344, 5.96 , 5.404, 5.807, 6.375, 5.412, 6.182,\n",
       "       5.888, 6.642, 5.951, 6.373, 6.951, 6.164, 6.879, 6.618, 8.266,\n",
       "       8.725, 8.04 , 7.163, 7.686, 6.552, 5.981, 7.412, 8.337, 8.247,\n",
       "       6.726, 6.086, 6.631, 7.358, 6.481, 6.606, 6.897, 6.095, 6.358,\n",
       "       6.393, 5.593, 5.605, 6.108, 6.226, 6.433, 6.718, 6.487, 6.438,\n",
       "       6.957, 8.259, 6.108, 5.876, 7.454, 8.704, 7.333, 6.842, 7.203,\n",
       "       7.52 , 8.398, 7.327, 7.206, 5.56 , 7.014, 8.297, 7.47 , 5.92 ,\n",
       "       5.856, 6.24 , 6.538, 7.691, 6.758, 6.854, 7.267, 6.826, 6.482,\n",
       "       6.812, 7.82 , 6.968, 7.645, 7.923, 7.088, 6.453, 6.23 , 6.209,\n",
       "       6.315, 6.565, 6.861, 7.148, 6.63 , 6.127, 6.009, 6.678, 6.549,\n",
       "       5.79 , 6.345, 7.041, 6.871, 6.59 , 6.495, 6.982, 7.236, 6.616,\n",
       "       7.42 , 6.849, 6.635, 5.972, 4.973, 6.122, 6.023, 6.266, 6.567,\n",
       "       5.705, 5.914, 5.782, 6.382, 6.113, 6.426, 6.376, 6.041, 5.708,\n",
       "       6.415, 6.431, 6.312, 6.083, 5.868, 6.333, 6.144, 5.706, 6.031,\n",
       "       6.316, 6.31 , 6.037, 5.869, 5.895, 6.059, 5.985, 5.968, 7.241,\n",
       "       6.54 , 6.696, 6.874, 6.014, 5.898, 6.516, 6.635, 6.939, 6.49 ,\n",
       "       6.579, 5.884, 6.728, 5.663, 5.936, 6.212, 6.395, 6.127, 6.112,\n",
       "       6.398, 6.251, 5.362, 5.803, 8.78 , 3.561, 4.963, 3.863, 4.97 ,\n",
       "       6.683, 7.016, 6.216, 5.875, 4.906, 4.138, 7.313, 6.649, 6.794,\n",
       "       6.38 , 6.223, 6.968, 6.545, 5.536, 5.52 , 4.368, 5.277, 4.652,\n",
       "       5.   , 4.88 , 5.39 , 5.713, 6.051, 5.036, 6.193, 5.887, 6.471,\n",
       "       6.405, 5.747, 5.453, 5.852, 5.987, 6.343, 6.404, 5.349, 5.531,\n",
       "       5.683, 4.138, 5.608, 5.617, 6.852, 5.757, 6.657, 4.628, 5.155,\n",
       "       4.519, 6.434, 6.782, 5.304, 5.957, 6.824, 6.411, 6.006, 5.648,\n",
       "       6.103, 5.565, 5.896, 5.837, 6.202, 6.193, 6.38 , 6.348, 6.833,\n",
       "       6.425, 6.436, 6.208, 6.629, 6.461, 6.152, 5.935, 5.627, 5.818,\n",
       "       6.406, 6.219, 6.485, 5.854, 6.459, 6.341, 6.251, 6.185, 6.417,\n",
       "       6.749, 6.655, 6.297, 7.393, 6.728, 6.525, 5.976, 5.936, 6.301,\n",
       "       6.081, 6.701, 6.376, 6.317, 6.513, 6.209, 5.759, 5.952, 6.003,\n",
       "       5.926, 5.713, 6.167, 6.229, 6.437, 6.98 , 5.427, 6.162, 6.484,\n",
       "       5.304, 6.185, 6.229, 6.242, 6.75 , 7.061, 5.762, 5.871, 6.312,\n",
       "       6.114, 5.905, 5.454, 5.414, 5.093, 5.983, 5.983, 5.707, 5.926,\n",
       "       5.67 , 5.39 , 5.794, 6.019, 5.569, 6.027, 6.593, 6.12 , 6.976,\n",
       "       6.794, 6.03 ])"
      ]
     },
     "execution_count": 157,
     "metadata": {},
     "output_type": "execute_result"
    }
   ],
   "source": [
    "# salida_Y = w0 + w1 * entrada_X modelo de regresion linear simple\n",
    "\n",
    "entrada_X = np.array(df['RM'])\n",
    "entrada_X"
   ]
  },
  {
   "cell_type": "code",
   "execution_count": 158,
   "metadata": {},
   "outputs": [],
   "source": [
    "Y = pd.DataFrame(boston.target, columns=['MEDV'])"
   ]
  },
  {
   "cell_type": "code",
   "execution_count": 159,
   "metadata": {},
   "outputs": [],
   "source": [
    "salida_Y= np.array(Y['MEDV'])"
   ]
  },
  {
   "cell_type": "code",
   "execution_count": 160,
   "metadata": {},
   "outputs": [],
   "source": [
    "# Añadimos columnas de 1 para termino independiente w0\n",
    "X = np.array([np.ones(506),df['RM']]).T\n",
    "#Ahora entrada x tiene dos columnas\n"
   ]
  },
  {
   "cell_type": "markdown",
   "metadata": {},
   "source": [
    "##### La formula del minimo error cuadratico medio(MCU): $b=(X^TX)^{-1}X^TY$"
   ]
  },
  {
   "cell_type": "code",
   "execution_count": 161,
   "metadata": {},
   "outputs": [
    {
     "data": {
      "text/plain": [
       "array([-34.67062078,   9.10210898])"
      ]
     },
     "execution_count": 161,
     "metadata": {},
     "output_type": "execute_result"
    }
   ],
   "source": [
    "b = np.linalg.inv(X.T @ X)@ X.T @ salida_Y\n",
    "b# Contiene [w0, w1] de la formula  Y = w0 + w1 * X "
   ]
  },
  {
   "cell_type": "code",
   "execution_count": 162,
   "metadata": {},
   "outputs": [
    {
     "data": {
      "image/png": "[encoded data removed]",
      "text/plain": [
       "<Figure size 432x288 with 1 Axes>"
      ]
     },
     "metadata": {
      "needs_background": "light"
     },
     "output_type": "display_data"
    }
   ],
   "source": [
    "plt.scatter(entrada_X, salida_Y, alpha=0.3)\n",
    "plt.plot([4,9], [b[0]+b[1]*4, b[0]+b[1]*9], c=\"red\")\n",
    "plt.show()"
   ]
  },
  {
   "cell_type": "markdown",
   "metadata": {},
   "source": [
    "## Regresion lineal Simple usando librerias "
   ]
  },
  {
   "cell_type": "code",
   "execution_count": 163,
   "metadata": {},
   "outputs": [],
   "source": [
    "from sklearn import linear_model\n",
    "from sklearn.metrics import mean_squared_error, r2_score"
   ]
  },
  {
   "cell_type": "code",
   "execution_count": 164,
   "metadata": {},
   "outputs": [],
   "source": [
    "modelo  = linear_model.LinearRegression()\n",
    "X  =  pd.DataFrame(df['RM'], columns=['RM'])\n",
    "X2 =  pd.DataFrame(df['AGE'], columns=['AGE'])\n",
    "X3 =  pd.DataFrame(df['DIS'], columns=['DIS'])\n",
    "Y  =  pd.DataFrame(boston.target, columns=['MEDV'])"
   ]
  },
  {
   "cell_type": "code",
   "execution_count": 165,
   "metadata": {},
   "outputs": [
    {
     "data": {
      "text/plain": [
       "LinearRegression(copy_X=True, fit_intercept=True, n_jobs=None, normalize=False)"
      ]
     },
     "execution_count": 165,
     "metadata": {},
     "output_type": "execute_result"
    }
   ],
   "source": [
    "modelo.fit(X, Y)"
   ]
  },
  {
   "cell_type": "code",
   "execution_count": 166,
   "metadata": {},
   "outputs": [],
   "source": [
    "y_pred = modelo.predict(X) # desde el modelo predecimos los valores y"
   ]
  },
  {
   "cell_type": "code",
   "execution_count": 167,
   "metadata": {
    "collapsed": true,
    "jupyter": {
     "outputs_hidden": true
    }
   },
   "outputs": [
    {
     "data": {
      "text/plain": [
       "array([[25.17574577],\n",
       "       [23.77402099],\n",
       "       [30.72803225],\n",
       "       [29.02593787],\n",
       "       [30.38215211],\n",
       "       [23.85593997],\n",
       "       [20.05125842],\n",
       "       [21.50759586],\n",
       "       [16.5833549 ],\n",
       "       [19.97844155],\n",
       "       [23.3735282 ],\n",
       "       [20.02395209],\n",
       "       [18.93169901],\n",
       "       [19.47782555],\n",
       "       [20.81583557],\n",
       "       [18.43108302],\n",
       "       [19.35039603],\n",
       "       [19.85101202],\n",
       "       [14.99048582],\n",
       "       [17.45715736],\n",
       "       [16.02812625],\n",
       "       [19.6234593 ],\n",
       "       [21.23453259],\n",
       "       [18.23993873],\n",
       "       [19.25027283],\n",
       "       [16.29208741],\n",
       "       [18.23993873],\n",
       "       [20.36983223],\n",
       "       [24.44757706],\n",
       "       [26.07685456],\n",
       "       [17.32972783],\n",
       "       [20.59738496],\n",
       "       [19.48692766],\n",
       "       [17.22050253],\n",
       "       [20.81583557],\n",
       "       [19.33219181],\n",
       "       [18.49479778],\n",
       "       [18.57671676],\n",
       "       [19.63256141],\n",
       "       [25.35778795],\n",
       "       [29.26259271],\n",
       "       [26.95065703],\n",
       "       [21.48028953],\n",
       "       [21.86257811],\n",
       "       [20.57007863],\n",
       "       [17.04756245],\n",
       "       [17.99418179],\n",
       "       [20.21509638],\n",
       "       [14.47166561],\n",
       "       [16.31939374],\n",
       "       [19.60525508],\n",
       "       [20.98877564],\n",
       "       [24.5932108 ],\n",
       "       [19.92382889],\n",
       "       [18.9225969 ],\n",
       "       [31.31056723],\n",
       "       [23.42814085],\n",
       "       [27.36935404],\n",
       "       [21.26183891],\n",
       "       [19.27757916],\n",
       "       [17.58458688],\n",
       "       [19.63256141],\n",
       "       [24.09259481],\n",
       "       [26.87784015],\n",
       "       [29.99076143],\n",
       "       [22.58164472],\n",
       "       [18.0032839 ],\n",
       "       [18.83157581],\n",
       "       [16.24657686],\n",
       "       [18.89529058],\n",
       "       [23.73761256],\n",
       "       [19.58705086],\n",
       "       [20.53367019],\n",
       "       [22.17204981],\n",
       "       [22.42690886],\n",
       "       [22.54523628],\n",
       "       [22.48152152],\n",
       "       [21.21632837],\n",
       "       [22.05372239],\n",
       "       [18.79516738],\n",
       "       [26.55926634],\n",
       "       [25.57623857],\n",
       "       [22.69087002],\n",
       "       [21.46208531],\n",
       "       [23.4827535 ],\n",
       "       [25.67636177],\n",
       "       [20.07856475],\n",
       "       [21.0433883 ],\n",
       "       [29.10785685],\n",
       "       [29.7632087 ],\n",
       "       [23.73761256],\n",
       "       [23.62838725],\n",
       "       [23.96516528],\n",
       "       [21.86257811],\n",
       "       [22.20845825],\n",
       "       [25.63085122],\n",
       "       [21.42567687],\n",
       "       [38.77429659],\n",
       "       [36.50787146],\n",
       "       [32.83061943],\n",
       "       [26.55926634],\n",
       "       [27.05078022],\n",
       "       [23.62838725],\n",
       "       [21.18902204],\n",
       "       [21.46208531],\n",
       "       [18.58581887],\n",
       "       [18.44928724],\n",
       "       [21.09800095],\n",
       "       [24.25643277],\n",
       "       [22.02641607],\n",
       "       [21.71694436],\n",
       "       [26.45004103],\n",
       "       [19.15014963],\n",
       "       [20.77942714],\n",
       "       [22.25396879],\n",
       "       [19.28668126],\n",
       "       [21.54400429],\n",
       "       [20.1331774 ],\n",
       "       [18.77696316],\n",
       "       [17.49356579],\n",
       "       [18.75875894],\n",
       "       [19.97844155],\n",
       "       [19.58705086],\n",
       "       [18.63132942],\n",
       "       [18.84067792],\n",
       "       [19.81460358],\n",
       "       [16.41951693],\n",
       "       [17.14768565],\n",
       "       [23.86504208],\n",
       "       [16.63796755],\n",
       "       [24.11079902],\n",
       "       [22.90932064],\n",
       "       [23.32801765],\n",
       "       [18.32185771],\n",
       "       [17.73022063],\n",
       "       [22.99123962],\n",
       "       [19.41411079],\n",
       "       [24.07439059],\n",
       "       [18.64043153],\n",
       "       [21.31645157],\n",
       "       [21.52580007],\n",
       "       [11.0128642 ],\n",
       "       [14.50807405],\n",
       "       [15.09971113],\n",
       "       [ 9.95701956],\n",
       "       [21.12530728],\n",
       "       [16.55604857],\n",
       "       [10.16636806],\n",
       "       [12.5329164 ],\n",
       "       [16.27388319],\n",
       "       [21.05249041],\n",
       "       [14.51717616],\n",
       "       [10.94914944],\n",
       "       [17.2933194 ],\n",
       "       [21.11620517],\n",
       "       [21.32555368],\n",
       "       [13.31569777],\n",
       "       [28.52532188],\n",
       "       [20.5427723 ],\n",
       "       [24.58410869],\n",
       "       [22.21756036],\n",
       "       [33.49507338],\n",
       "       [36.34403349],\n",
       "       [41.55954194],\n",
       "       [18.6131252 ],\n",
       "       [20.86134612],\n",
       "       [37.50000134],\n",
       "       [18.82247371],\n",
       "       [22.84560588],\n",
       "       [23.60108092],\n",
       "       [18.80426949],\n",
       "       [18.84978003],\n",
       "       [16.04633047],\n",
       "       [23.72851045],\n",
       "       [18.65863574],\n",
       "       [24.91178461],\n",
       "       [20.12407529],\n",
       "       [22.80919744],\n",
       "       [27.76984683],\n",
       "       [28.86209991],\n",
       "       [36.00725546],\n",
       "       [21.2527368 ],\n",
       "       [30.45496898],\n",
       "       [25.06652047],\n",
       "       [16.33759795],\n",
       "       [21.33465578],\n",
       "       [36.60799466],\n",
       "       [27.05988233],\n",
       "       [25.0028057 ],\n",
       "       [30.72803225],\n",
       "       [28.59813875],\n",
       "       [26.66849165],\n",
       "       [30.66431749],\n",
       "       [27.2237203 ],\n",
       "       [25.43970694],\n",
       "       [37.00848745],\n",
       "       [31.65644737],\n",
       "       [30.01806775],\n",
       "       [31.53811995],\n",
       "       [28.81658937],\n",
       "       [30.2729268 ],\n",
       "       [21.41657477],\n",
       "       [34.59642857],\n",
       "       [36.80824105],\n",
       "       [38.45572278],\n",
       "       [18.94990323],\n",
       "       [22.90932064],\n",
       "       [17.96687546],\n",
       "       [20.52456809],\n",
       "       [13.97104962],\n",
       "       [19.57794875],\n",
       "       [14.51717616],\n",
       "       [18.18532608],\n",
       "       [23.35532398],\n",
       "       [14.58999303],\n",
       "       [21.59861695],\n",
       "       [18.9225969 ],\n",
       "       [25.78558708],\n",
       "       [19.49602977],\n",
       "       [23.33711976],\n",
       "       [28.59813875],\n",
       "       [21.43477898],\n",
       "       [27.94278691],\n",
       "       [25.56713646],\n",
       "       [40.56741206],\n",
       "       [44.74528008],\n",
       "       [38.51033543],\n",
       "       [30.52778586],\n",
       "       [35.28818885],\n",
       "       [24.96639727],\n",
       "       [19.76909304],\n",
       "       [32.79421099],\n",
       "       [41.2136618 ],\n",
       "       [40.39447199],\n",
       "       [26.55016423],\n",
       "       [20.72481448],\n",
       "       [25.68546388],\n",
       "       [32.30269711],\n",
       "       [24.32014753],\n",
       "       [25.45791115],\n",
       "       [28.10662487],\n",
       "       [20.80673346],\n",
       "       [23.20058813],\n",
       "       [23.51916194],\n",
       "       [16.23747476],\n",
       "       [16.34670006],\n",
       "       [20.92506088],\n",
       "       [21.99910974],\n",
       "       [23.8832463 ],\n",
       "       [26.47734736],\n",
       "       [24.37476018],\n",
       "       [23.92875684],\n",
       "       [28.65275141],\n",
       "       [40.5036973 ],\n",
       "       [20.92506088],\n",
       "       [18.8133716 ],\n",
       "       [33.17649957],\n",
       "       [44.5541358 ],\n",
       "       [32.07514438],\n",
       "       [27.60600887],\n",
       "       [30.89187022],\n",
       "       [33.77723876],\n",
       "       [41.76889045],\n",
       "       [32.02053173],\n",
       "       [30.91917654],\n",
       "       [15.93710516],\n",
       "       [29.17157162],\n",
       "       [40.84957744],\n",
       "       [33.32213331],\n",
       "       [19.21386439],\n",
       "       [18.63132942],\n",
       "       [22.12653927],\n",
       "       [24.83896774],\n",
       "       [35.3336994 ],\n",
       "       [26.84143172],\n",
       "       [27.71523418],\n",
       "       [31.47440519],\n",
       "       [27.46037513],\n",
       "       [24.32924964],\n",
       "       [27.3329456 ],\n",
       "       [36.50787146],\n",
       "       [28.7528746 ],\n",
       "       [34.91500238],\n",
       "       [37.44538868],\n",
       "       [29.84512768],\n",
       "       [24.06528848],\n",
       "       [22.03551818],\n",
       "       [21.84437389],\n",
       "       [22.80919744],\n",
       "       [25.08472469],\n",
       "       [27.77894894],\n",
       "       [30.39125422],\n",
       "       [25.67636177],\n",
       "       [21.09800095],\n",
       "       [20.02395209],\n",
       "       [26.113263  ],\n",
       "       [24.93909094],\n",
       "       [18.03059022],\n",
       "       [23.08226071],\n",
       "       [29.41732856],\n",
       "       [27.86997003],\n",
       "       [25.31227741],\n",
       "       [24.44757706],\n",
       "       [28.88030413],\n",
       "       [31.19223981],\n",
       "       [25.54893224],\n",
       "       [32.86702786],\n",
       "       [27.66972364],\n",
       "       [25.72187231],\n",
       "       [19.68717406],\n",
       "       [10.59416719],\n",
       "       [21.05249041],\n",
       "       [20.15138162],\n",
       "       [22.3631941 ],\n",
       "       [25.1029289 ],\n",
       "       [17.25691096],\n",
       "       [19.15925174],\n",
       "       [17.95777335],\n",
       "       [23.41903874],\n",
       "       [20.97057143],\n",
       "       [23.81953154],\n",
       "       [23.36442609],\n",
       "       [20.31521958],\n",
       "       [17.28421729],\n",
       "       [23.71940834],\n",
       "       [23.86504208],\n",
       "       [22.78189111],\n",
       "       [20.69750816],\n",
       "       [18.74055473],\n",
       "       [22.9730354 ],\n",
       "       [21.2527368 ],\n",
       "       [17.26601307],\n",
       "       [20.22419849],\n",
       "       [22.81829955],\n",
       "       [22.76368689],\n",
       "       [20.27881114],\n",
       "       [18.74965683],\n",
       "       [18.98631167],\n",
       "       [20.47905754],\n",
       "       [19.80550148],\n",
       "       [19.65076562],\n",
       "       [31.23775036],\n",
       "       [24.85717196],\n",
       "       [26.27710096],\n",
       "       [27.89727636],\n",
       "       [20.06946264],\n",
       "       [19.01361799],\n",
       "       [24.63872134],\n",
       "       [25.72187231],\n",
       "       [28.48891344],\n",
       "       [24.40206651],\n",
       "       [25.21215421],\n",
       "       [18.88618847],\n",
       "       [26.56836845],\n",
       "       [16.87462238],\n",
       "       [19.35949814],\n",
       "       [21.87168021],\n",
       "       [23.53736616],\n",
       "       [21.09800095],\n",
       "       [20.96146932],\n",
       "       [23.56467249],\n",
       "       [22.22666246],\n",
       "       [14.13488758],\n",
       "       [18.14891764],\n",
       "       [45.24589608],\n",
       "       [-2.25801069],\n",
       "       [10.5031461 ],\n",
       "       [ 0.49082622],\n",
       "       [10.56686086],\n",
       "       [26.15877354],\n",
       "       [29.18977584],\n",
       "       [21.90808865],\n",
       "       [18.80426949],\n",
       "       [ 9.98432589],\n",
       "       [ 2.99390619],\n",
       "       [31.8931022 ],\n",
       "       [25.84930184],\n",
       "       [27.16910764],\n",
       "       [23.40083452],\n",
       "       [21.97180341],\n",
       "       [28.7528746 ],\n",
       "       [24.90268251],\n",
       "       [15.71865454],\n",
       "       [15.5730208 ],\n",
       "       [ 5.08739125],\n",
       "       [13.36120832],\n",
       "       [ 7.6723902 ],\n",
       "       [10.83992413],\n",
       "       [ 9.74767105],\n",
       "       [14.38974663],\n",
       "       [17.32972783],\n",
       "       [20.40624067],\n",
       "       [11.16760005],\n",
       "       [21.69874014],\n",
       "       [18.9134948 ],\n",
       "       [24.22912644],\n",
       "       [23.62838725],\n",
       "       [17.63919954],\n",
       "       [14.9631795 ],\n",
       "       [18.59492098],\n",
       "       [19.82370569],\n",
       "       [23.06405649],\n",
       "       [23.61928514],\n",
       "       [14.01656016],\n",
       "       [15.673144  ],\n",
       "       [17.05666456],\n",
       "       [ 2.99390619],\n",
       "       [16.37400639],\n",
       "       [16.45592537],\n",
       "       [27.69702996],\n",
       "       [17.73022063],\n",
       "       [25.92211871],\n",
       "       [ 7.45393959],\n",
       "       [12.25075102],\n",
       "       [ 6.46180971],\n",
       "       [23.89234841],\n",
       "       [27.05988233],\n",
       "       [13.60696526],\n",
       "       [19.55064242],\n",
       "       [27.44217091],\n",
       "       [23.6829999 ],\n",
       "       [19.99664576],\n",
       "       [16.73809075],\n",
       "       [20.87955034],\n",
       "       [15.9826157 ],\n",
       "       [18.99541378],\n",
       "       [18.45838935],\n",
       "       [21.78065912],\n",
       "       [21.69874014],\n",
       "       [23.40083452],\n",
       "       [23.10956704],\n",
       "       [27.52408989],\n",
       "       [23.81042943],\n",
       "       [23.91055263],\n",
       "       [21.83527178],\n",
       "       [25.66725966],\n",
       "       [24.13810535],\n",
       "       [21.32555368],\n",
       "       [19.35039603],\n",
       "       [16.54694646],\n",
       "       [18.28544928],\n",
       "       [23.63748936],\n",
       "       [21.93539498],\n",
       "       [24.35655597],\n",
       "       [18.6131252 ],\n",
       "       [24.11990113],\n",
       "       [23.04585227],\n",
       "       [22.22666246],\n",
       "       [21.62592327],\n",
       "       [23.73761256],\n",
       "       [26.75951274],\n",
       "       [25.90391449],\n",
       "       [22.64535948],\n",
       "       [32.62127092],\n",
       "       [26.56836845],\n",
       "       [24.72064033],\n",
       "       [19.7235825 ],\n",
       "       [19.35949814],\n",
       "       [22.68176791],\n",
       "       [20.67930394],\n",
       "       [26.32261151],\n",
       "       [23.36442609],\n",
       "       [22.82740166],\n",
       "       [24.61141502],\n",
       "       [21.84437389],\n",
       "       [17.74842485],\n",
       "       [19.50513188],\n",
       "       [19.96933944],\n",
       "       [19.26847705],\n",
       "       [17.32972783],\n",
       "       [21.46208531],\n",
       "       [22.02641607],\n",
       "       [23.91965474],\n",
       "       [28.86209991],\n",
       "       [14.72652466],\n",
       "       [21.41657477],\n",
       "       [24.34745386],\n",
       "       [13.60696526],\n",
       "       [21.62592327],\n",
       "       [22.02641607],\n",
       "       [22.14474348],\n",
       "       [26.76861485],\n",
       "       [29.59937074],\n",
       "       [17.77573117],\n",
       "       [18.76786105],\n",
       "       [22.78189111],\n",
       "       [20.97967353],\n",
       "       [19.07733276],\n",
       "       [14.97228161],\n",
       "       [14.60819725],\n",
       "       [11.68642026],\n",
       "       [19.78729726],\n",
       "       [19.78729726],\n",
       "       [17.27511518],\n",
       "       [19.26847705],\n",
       "       [16.93833715],\n",
       "       [14.38974663],\n",
       "       [18.06699866],\n",
       "       [20.11497318],\n",
       "       [16.01902414],\n",
       "       [20.18779005],\n",
       "       [25.33958374],\n",
       "       [21.03428619],\n",
       "       [28.82569148],\n",
       "       [27.16910764],\n",
       "       [20.21509638]])"
      ]
     },
     "execution_count": 167,
     "metadata": {},
     "output_type": "execute_result"
    }
   ],
   "source": [
    "y_pred"
   ]
  },
  {
   "cell_type": "code",
   "execution_count": 168,
   "metadata": {},
   "outputs": [
    {
     "name": "stdout",
     "output_type": "stream",
     "text": [
      "Error cuadrático medio: 43.60\n",
      "Estadístico R_2: 0.48\n",
      "Coeficiente Intercepcion beta 0 (w0) -34.67062077643857\n",
      "Coeficiente  beta 1 (w1) [9.10210898]\n"
     ]
    }
   ],
   "source": [
    "print('Error cuadrático medio: %.2f' % mean_squared_error(Y, y_pred))\n",
    "print('Estadístico R_2: %.2f' % r2_score(Y, y_pred))\n",
    "\n",
    "print('Coeficiente Intercepcion beta 0 (w0)', modelo.intercept_[0])\n",
    "print('Coeficiente  beta 1 (w1)', modelo.coef_[0])\n",
    "w1 = modelo.coef_[0]\n",
    "w0 = modelo.intercept_[0]\n",
    "x_inicio = 4\n",
    "x_final=9"
   ]
  },
  {
   "cell_type": "code",
   "execution_count": 169,
   "metadata": {},
   "outputs": [
    {
     "data": {
      "image/png": "[encoded data removed]",
      "text/plain": [
       "<Figure size 432x288 with 1 Axes>"
      ]
     },
     "metadata": {
      "needs_background": "light"
     },
     "output_type": "display_data"
    }
   ],
   "source": [
    "plt.scatter(X, Y)\n",
    "\n",
    "#plt.scatter(X, y_pred, color='red')\n",
    "plt.plot(X, y_pred, color='red')\n",
    "x_real = np.array([x_inicio, x_final])\n",
    "y_real =  np.array([w0+w1*x_inicio, w0+w1*x_final])\n",
    "plt.plot(x_real, y_real, color='green')\n",
    "plt.show()\n",
    "# Se syperponen las linea real del modelo calculado anterior mente sin librerias y la predicha por el modelo usando las librerias"
   ]
  },
  {
   "cell_type": "markdown",
   "metadata": {},
   "source": [
    "# Regresion Lineal Multiple "
   ]
  },
  {
   "cell_type": "markdown",
   "metadata": {},
   "source": [
    "En la práctica solemos tener n variables predictoras, no sólo 1. Podríamos hacer n regresiones lineales simples, pero cada una de ellas ignoraría a las otras $n-1$ variables y no se sacaría ventaja de las relaciones entre variables. $Y = W0+ W1*X1 + W2*X2 ... +Wn*Xn$"
   ]
  },
  {
   "cell_type": "code",
   "execution_count": 170,
   "metadata": {},
   "outputs": [],
   "source": [
    "from mpl_toolkits.mplot3d import Axes3D\n",
    "from sklearn.model_selection import train_test_split"
   ]
  },
  {
   "cell_type": "code",
   "execution_count": 171,
   "metadata": {},
   "outputs": [
    {
     "data": {
      "text/plain": [
       "(506, 3)"
      ]
     },
     "execution_count": 171,
     "metadata": {},
     "output_type": "execute_result"
    }
   ],
   "source": [
    "X_MULTIPLE =  df[['RM', 'AGE', 'DIS']]\n",
    "X_MULTIPLE.shape"
   ]
  },
  {
   "cell_type": "code",
   "execution_count": 172,
   "metadata": {},
   "outputs": [],
   "source": [
    "Y =  pd.DataFrame(boston.target, columns=['MEDV'])"
   ]
  },
  {
   "cell_type": "code",
   "execution_count": 173,
   "metadata": {},
   "outputs": [],
   "source": [
    "#Separo los datos de \"train\" en entrenamiento y prueba para probar los algoritmos\n",
    "X_train, X_test, y_train, y_test = train_test_split(X_MULTIPLE, Y, test_size=0.2)"
   ]
  },
  {
   "cell_type": "code",
   "execution_count": 174,
   "metadata": {},
   "outputs": [
    {
     "data": {
      "text/html": [
       "<div>\n",
       "<style scoped>\n",
       "    .dataframe tbody tr th:only-of-type {\n",
       "        vertical-align: middle;\n",
       "    }\n",
       "\n",
       "    .dataframe tbody tr th {\n",
       "        vertical-align: top;\n",
       "    }\n",
       "\n",
       "    .dataframe thead th {\n",
       "        text-align: right;\n",
       "    }\n",
       "</style>\n",
       "<table border=\"1\" class=\"dataframe\">\n",
       "  <thead>\n",
       "    <tr style=\"text-align: right;\">\n",
       "      <th></th>\n",
       "      <th>RM</th>\n",
       "      <th>AGE</th>\n",
       "      <th>DIS</th>\n",
       "    </tr>\n",
       "  </thead>\n",
       "  <tbody>\n",
       "    <tr>\n",
       "      <th>52</th>\n",
       "      <td>6.511</td>\n",
       "      <td>21.1</td>\n",
       "      <td>6.8147</td>\n",
       "    </tr>\n",
       "    <tr>\n",
       "      <th>418</th>\n",
       "      <td>5.957</td>\n",
       "      <td>100.0</td>\n",
       "      <td>1.8026</td>\n",
       "    </tr>\n",
       "    <tr>\n",
       "      <th>211</th>\n",
       "      <td>5.404</td>\n",
       "      <td>88.6</td>\n",
       "      <td>3.6650</td>\n",
       "    </tr>\n",
       "    <tr>\n",
       "      <th>471</th>\n",
       "      <td>6.229</td>\n",
       "      <td>90.7</td>\n",
       "      <td>3.0993</td>\n",
       "    </tr>\n",
       "    <tr>\n",
       "      <th>30</th>\n",
       "      <td>5.713</td>\n",
       "      <td>94.1</td>\n",
       "      <td>4.2330</td>\n",
       "    </tr>\n",
       "  </tbody>\n",
       "</table>\n",
       "</div>"
      ],
      "text/plain": [
       "        RM    AGE     DIS\n",
       "52   6.511   21.1  6.8147\n",
       "418  5.957  100.0  1.8026\n",
       "211  5.404   88.6  3.6650\n",
       "471  6.229   90.7  3.0993\n",
       "30   5.713   94.1  4.2330"
      ]
     },
     "execution_count": 174,
     "metadata": {},
     "output_type": "execute_result"
    }
   ],
   "source": [
    "X_train.head()"
   ]
  },
  {
   "cell_type": "code",
   "execution_count": 175,
   "metadata": {},
   "outputs": [],
   "source": [
    "#Defino el algoritmo a utilizar\n",
    "lr_multiple = linear_model.LinearRegression()"
   ]
  },
  {
   "cell_type": "code",
   "execution_count": 176,
   "metadata": {},
   "outputs": [
    {
     "data": {
      "text/plain": [
       "LinearRegression(copy_X=True, fit_intercept=True, n_jobs=None, normalize=False)"
      ]
     },
     "execution_count": 176,
     "metadata": {},
     "output_type": "execute_result"
    }
   ],
   "source": [
    "lr_multiple.fit(X_train, y_train)"
   ]
  },
  {
   "cell_type": "code",
   "execution_count": 177,
   "metadata": {},
   "outputs": [],
   "source": [
    "#Realizo una predicción\n",
    "Y_pred_multiple = lr_multiple.predict(X_test)\n",
    "Y_pred_multiple_trainig = lr_multiple.predict(X_train)"
   ]
  },
  {
   "cell_type": "markdown",
   "metadata": {},
   "source": [
    "### DATOS DEL MODELO REGRESIÓN LINEAL MULTIPLE"
   ]
  },
  {
   "cell_type": "markdown",
   "metadata": {},
   "source": [
    "#### Valor de las pendientes o coeficientes w1 w2 w3:"
   ]
  },
  {
   "cell_type": "code",
   "execution_count": 178,
   "metadata": {},
   "outputs": [
    {
     "data": {
      "text/plain": [
       "array([[ 8.94714765, -0.08981632, -0.31194833]])"
      ]
     },
     "execution_count": 178,
     "metadata": {},
     "output_type": "execute_result"
    }
   ],
   "source": [
    "lr_multiple.coef_"
   ]
  },
  {
   "cell_type": "code",
   "execution_count": 179,
   "metadata": {},
   "outputs": [],
   "source": [
    "\n",
    "w1_multiple =  lr_multiple.coef_[0][0]\n",
    "w2_multiple =  lr_multiple.coef_[0][1]\n",
    "w3_multiple =  lr_multiple.coef_[0][2]"
   ]
  },
  {
   "cell_type": "markdown",
   "metadata": {},
   "source": [
    "#### Valor de la intersección o coeficiente w0:"
   ]
  },
  {
   "cell_type": "code",
   "execution_count": 180,
   "metadata": {},
   "outputs": [
    {
     "data": {
      "text/plain": [
       "array([-26.4370471])"
      ]
     },
     "execution_count": 180,
     "metadata": {},
     "output_type": "execute_result"
    }
   ],
   "source": [
    "lr_multiple.intercept_"
   ]
  },
  {
   "cell_type": "code",
   "execution_count": 181,
   "metadata": {},
   "outputs": [],
   "source": [
    "lr_multiple.intercept_\n",
    "w0_multiple= lr_multiple.intercept_[0]"
   ]
  },
  {
   "cell_type": "markdown",
   "metadata": {},
   "source": [
    "### Precisión del modelo:"
   ]
  },
  {
   "cell_type": "code",
   "execution_count": 182,
   "metadata": {},
   "outputs": [
    {
     "data": {
      "text/plain": [
       "0.5556793548271759"
      ]
     },
     "execution_count": 182,
     "metadata": {},
     "output_type": "execute_result"
    }
   ],
   "source": [
    "lr_multiple.score(X_train, y_train)"
   ]
  },
  {
   "cell_type": "markdown",
   "metadata": {},
   "source": [
    "# Grafica de regresion multiple:"
   ]
  },
  {
   "cell_type": "code",
   "execution_count": 185,
   "metadata": {},
   "outputs": [
    {
     "data": {
      "text/plain": [
       "[<matplotlib.lines.Line2D at 0x7fc883fdbe48>]"
      ]
     },
     "execution_count": 185,
     "metadata": {},
     "output_type": "execute_result"
    },
    {
     "data": {
      "image/png": "[encoded data removed]",
      "text/plain": [
       "<Figure size 432x288 with 1 Axes>"
      ]
     },
     "metadata": {
      "needs_background": "light"
     },
     "output_type": "display_data"
    }
   ],
   "source": [
    "plt.scatter(X_train['RM'], y_train)# Entrenamiento con el 80% de los datos\n",
    "#plt.scatter(X_train['AGE'], y_train, color= \"yellow\")\n",
    "#plt.scatter(X_train['DIS'], y_train, color= \"yellow\")\n",
    "#plt.scatter(X, y_pred, color='red')\n",
    "x_real_multiple = np.array([4, 9])\n",
    "y_real_multiple =  np.array([w0_multiple+w1_multiple*4, w0_multiple+w1_multiple*9])\n",
    "plt.plot(x_real_multiple, y_real_multiple, color='green')\n",
    "\n",
    "x_real = np.array([4, 9])\n",
    "y_real =  np.array([w0+w1*4, w0+w1*9])\n",
    "plt.plot(x_real, y_real, color='red')"
   ]
  },
  {
   "cell_type": "code",
   "execution_count": 184,
   "metadata": {},
   "outputs": [
    {
     "data": {
      "text/plain": [
       "[<matplotlib.lines.Line2D at 0x7fc8840605c0>]"
      ]
     },
     "execution_count": 184,
     "metadata": {},
     "output_type": "execute_result"
    },
    {
     "data": {
      "image/png": "[encoded data removed]",
      "text/plain": [
       "<Figure size 432x288 with 1 Axes>"
      ]
     },
     "metadata": {
      "needs_background": "light"
     },
     "output_type": "display_data"
    }
   ],
   "source": [
    "plt.scatter(X_test['RM'], y_test)# Testing con el 20% de los datos\n",
    "x_real = np.array([4, 9])\n",
    "y_real =  np.array([w0+w1*4, w0+w1*9])\n",
    "plt.plot(x_real, y_real, color='green')"
   ]
  },
  {
   "cell_type": "code",
   "execution_count": null,
   "metadata": {},
   "outputs": [],
   "source": [
    "Nota: Veo que la regresion multiple afecta la relacion directa de la regresion lineal simple haciendo un peor modelo individual."
   ]
  }
 ],
 "metadata": {
  "kernelspec": {
   "display_name": "Python 3",
   "language": "python",
   "name": "python3"
  },
  "language_info": {
   "codemirror_mode": {
    "name": "ipython",
    "version": 3
   },
   "file_extension": ".py",
   "mimetype": "text/x-python",
   "name": "python",
   "nbconvert_exporter": "python",
   "pygments_lexer": "ipython3",
   "version": "3.6.7"
  }
 },
 "nbformat": 4,
 "nbformat_minor": 4
}
