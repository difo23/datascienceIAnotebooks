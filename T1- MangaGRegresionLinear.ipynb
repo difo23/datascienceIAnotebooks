{
 "cells": [
  {
   "cell_type": "markdown",
   "metadata": {},
   "source": [
    "## Conceptos basicos de Regresion Linear:"
   ]
  },
  {
   "cell_type": "markdown",
   "metadata": {},
   "source": [
    "## Funciones Lineales"
   ]
  },
  {
   "cell_type": "markdown",
   "metadata": {},
   "source": [
    "$y = 2*x+1$ o $f(x) = 2*x+1$"
   ]
  },
  {
   "cell_type": "code",
   "execution_count": 1,
   "metadata": {},
   "outputs": [],
   "source": [
    "import numpy as np"
   ]
  },
  {
   "cell_type": "code",
   "execution_count": 2,
   "metadata": {},
   "outputs": [],
   "source": [
    "x = np.random.randint(0, 20, 20 ) # genera aleat. un arreglo de valores entre 2 y 40\n",
    "# 20 tamaño del arreglo"
   ]
  },
  {
   "cell_type": "code",
   "execution_count": 3,
   "metadata": {},
   "outputs": [
    {
     "data": {
      "text/plain": [
       "array([13, 18,  0,  3, 18,  1,  8,  1, 12,  5, 11,  2,  2,  3, 11,  0,  4,\n",
       "        7, 18, 16])"
      ]
     },
     "execution_count": 3,
     "metadata": {},
     "output_type": "execute_result"
    }
   ],
   "source": [
    "x"
   ]
  },
  {
   "cell_type": "code",
   "execution_count": 4,
   "metadata": {},
   "outputs": [],
   "source": [
    "y = 2*x+1"
   ]
  },
  {
   "cell_type": "code",
   "execution_count": 5,
   "metadata": {},
   "outputs": [
    {
     "data": {
      "text/plain": [
       "array([27, 37,  1,  7, 37,  3, 17,  3, 25, 11, 23,  5,  5,  7, 23,  1,  9,\n",
       "       15, 37, 33])"
      ]
     },
     "execution_count": 5,
     "metadata": {},
     "output_type": "execute_result"
    }
   ],
   "source": [
    "y"
   ]
  },
  {
   "cell_type": "code",
   "execution_count": 6,
   "metadata": {},
   "outputs": [],
   "source": [
    "import matplotlib.pyplot as plt "
   ]
  },
  {
   "cell_type": "code",
   "execution_count": 7,
   "metadata": {},
   "outputs": [
    {
     "data": {
      "text/plain": [
       "[<matplotlib.lines.Line2D at 0x7fc63b47e710>]"
      ]
     },
     "execution_count": 7,
     "metadata": {},
     "output_type": "execute_result"
    },
    {
     "data": {
      "image/png": "[encoded data removed]",
      "text/plain": [
       "<Figure size 432x288 with 1 Axes>"
      ]
     },
     "metadata": {
      "needs_background": "light"
     },
     "output_type": "display_data"
    }
   ],
   "source": [
    "%matplotlib inline\n",
    "plt.plot(x,y, color= 'red')"
   ]
  },
  {
   "cell_type": "markdown",
   "metadata": {},
   "source": [
    "#### NOTA: En la funcion linear la variable \"*y*\" depende de \"*x*\" de forma linear como muestra la grafica, Se le suele llamar a \"*y*\" la variable \"*outcome*\" y a \"*x*\" la variable \"*predictor*\""
   ]
  },
  {
   "cell_type": "markdown",
   "metadata": {},
   "source": [
    "## Funciones Inversas"
   ]
  },
  {
   "cell_type": "markdown",
   "metadata": {},
   "source": [
    "$y = 2*x+1$ o $f(x) = 2*x+1$ su funcion inversa seria:\n",
    "* Paso 1: $x = 2*y+1$ o $f(y) = 2*y+1$\n",
    "* Paso 2:  transpose $2y = x-1$\n",
    "* Paso 3: $y = (1/2)x-(1/2)$"
   ]
  },
  {
   "cell_type": "code",
   "execution_count": 8,
   "metadata": {},
   "outputs": [
    {
     "data": {
      "text/plain": [
       "[<matplotlib.lines.Line2D at 0x7fc6036f24e0>]"
      ]
     },
     "execution_count": 8,
     "metadata": {},
     "output_type": "execute_result"
    },
    {
     "data": {
      "image/png": "[encoded data removed]",
      "text/plain": [
       "<Figure size 432x288 with 1 Axes>"
      ]
     },
     "metadata": {
      "needs_background": "light"
     },
     "output_type": "display_data"
    }
   ],
   "source": [
    "y_inversa = (1/2)*y- (1/2)\n",
    "\n",
    "%matplotlib inline\n",
    "plt.plot(x,y, color= 'red')\n",
    "plt.plot(y_inversa,y, color= 'blue')"
   ]
  },
  {
   "cell_type": "code",
   "execution_count": 9,
   "metadata": {},
   "outputs": [
    {
     "data": {
      "text/plain": [
       "array([13., 18.,  0.,  3., 18.,  1.,  8.,  1., 12.,  5., 11.,  2.,  2.,\n",
       "        3., 11.,  0.,  4.,  7., 18., 16.])"
      ]
     },
     "execution_count": 9,
     "metadata": {},
     "output_type": "execute_result"
    }
   ],
   "source": [
    "y_inversa"
   ]
  },
  {
   "cell_type": "markdown",
   "metadata": {},
   "source": [
    "### Condicion de la inversa: $Si f(a) = b, entonces f−1(b) = a.$"
   ]
  },
  {
   "cell_type": "code",
   "execution_count": 10,
   "metadata": {},
   "outputs": [],
   "source": [
    "y = 2*x+1 # 1ro: y es mi b y a es mi x"
   ]
  },
  {
   "cell_type": "code",
   "execution_count": 11,
   "metadata": {},
   "outputs": [],
   "source": [
    "y_inversa = (1/2)*y- (1/2) # 2do: a es mi y_inversa y b_es mi y\n",
    "\n",
    "# 3ro: 1ro la a = x y 2do a = y_inversa, entonces x = y_inversa"
   ]
  },
  {
   "cell_type": "code",
   "execution_count": 12,
   "metadata": {},
   "outputs": [
    {
     "data": {
      "text/plain": [
       "array([13., 18.,  0.,  3., 18.,  1.,  8.,  1., 12.,  5., 11.,  2.,  2.,\n",
       "        3., 11.,  0.,  4.,  7., 18., 16.])"
      ]
     },
     "execution_count": 12,
     "metadata": {},
     "output_type": "execute_result"
    }
   ],
   "source": [
    "y_inversa"
   ]
  },
  {
   "cell_type": "code",
   "execution_count": 13,
   "metadata": {},
   "outputs": [
    {
     "data": {
      "text/plain": [
       "array([13, 18,  0,  3, 18,  1,  8,  1, 12,  5, 11,  2,  2,  3, 11,  0,  4,\n",
       "        7, 18, 16])"
      ]
     },
     "execution_count": 13,
     "metadata": {},
     "output_type": "execute_result"
    }
   ],
   "source": [
    "x"
   ]
  },
  {
   "cell_type": "code",
   "execution_count": 14,
   "metadata": {},
   "outputs": [
    {
     "name": "stdout",
     "output_type": "stream",
     "text": [
      "Se cumple la 'condicion de la inversa' de una funcion\n"
     ]
    }
   ],
   "source": [
    "y_inv = np.array(y_inversa)\n",
    "x = np.array(x)\n",
    "\n",
    "if (y_inv==x).all():\n",
    "    print(\"Se cumple la 'condicion de la inversa' de una funcion\")"
   ]
  },
  {
   "cell_type": "markdown",
   "metadata": {},
   "source": [
    "## Funcion Exponecial"
   ]
  },
  {
   "cell_type": "markdown",
   "metadata": {},
   "source": [
    "De la forma $y = 2^x$"
   ]
  },
  {
   "cell_type": "code",
   "execution_count": 15,
   "metadata": {},
   "outputs": [],
   "source": [
    "y_expo = 2**x"
   ]
  },
  {
   "cell_type": "code",
   "execution_count": 16,
   "metadata": {},
   "outputs": [
    {
     "data": {
      "text/plain": [
       "array([  8192, 262144,      1,      8, 262144,      2,    256,      2,\n",
       "         4096,     32,   2048,      4,      4,      8,   2048,      1,\n",
       "           16,    128, 262144,  65536])"
      ]
     },
     "execution_count": 16,
     "metadata": {},
     "output_type": "execute_result"
    }
   ],
   "source": [
    "y_expo"
   ]
  },
  {
   "cell_type": "code",
   "execution_count": 17,
   "metadata": {},
   "outputs": [
    {
     "data": {
      "text/plain": [
       "<matplotlib.collections.PathCollection at 0x7fc6009c6f28>"
      ]
     },
     "execution_count": 17,
     "metadata": {},
     "output_type": "execute_result"
    },
    {
     "data": {
      "image/png": "[encoded data removed]",
      "text/plain": [
       "<Figure size 432x288 with 1 Axes>"
      ]
     },
     "metadata": {
      "needs_background": "light"
     },
     "output_type": "display_data"
    }
   ],
   "source": [
    "%matplotlib inline\n",
    "plt.scatter(x,y_expo, color= 'red')\n"
   ]
  },
  {
   "cell_type": "markdown",
   "metadata": {},
   "source": [
    "De la forma $y = e^x$"
   ]
  },
  {
   "cell_type": "code",
   "execution_count": 18,
   "metadata": {},
   "outputs": [
    {
     "data": {
      "text/plain": [
       "<matplotlib.collections.PathCollection at 0x7fc600934710>"
      ]
     },
     "execution_count": 18,
     "metadata": {},
     "output_type": "execute_result"
    },
    {
     "data": {
      "image/png": "[encoded data removed]",
      "text/plain": [
       "<Figure size 432x288 with 1 Axes>"
      ]
     },
     "metadata": {
      "needs_background": "light"
     },
     "output_type": "display_data"
    }
   ],
   "source": [
    "\n",
    "y_expo = np.exp(x)\n",
    "%matplotlib inline\n",
    "plt.scatter(x,y_expo, color= 'red')"
   ]
  },
  {
   "cell_type": "code",
   "execution_count": 19,
   "metadata": {},
   "outputs": [
    {
     "data": {
      "text/plain": [
       "array([4.42413392e+05, 6.56599691e+07, 1.00000000e+00, 2.00855369e+01,\n",
       "       6.56599691e+07, 2.71828183e+00, 2.98095799e+03, 2.71828183e+00,\n",
       "       1.62754791e+05, 1.48413159e+02, 5.98741417e+04, 7.38905610e+00,\n",
       "       7.38905610e+00, 2.00855369e+01, 5.98741417e+04, 1.00000000e+00,\n",
       "       5.45981500e+01, 1.09663316e+03, 6.56599691e+07, 8.88611052e+06])"
      ]
     },
     "execution_count": 19,
     "metadata": {},
     "output_type": "execute_result"
    }
   ],
   "source": [
    "y_expo"
   ]
  },
  {
   "cell_type": "markdown",
   "metadata": {},
   "source": [
    "### Calculo Diferencial:"
   ]
  },
  {
   "cell_type": "code",
   "execution_count": 20,
   "metadata": {},
   "outputs": [],
   "source": [
    "import pandas as pd"
   ]
  },
  {
   "cell_type": "code",
   "execution_count": 21,
   "metadata": {},
   "outputs": [],
   "source": [
    "edades = np.array(range(4,20))\n",
    "alturas = np.array([100.1, 107.2, 114.1, 121.7, 126.8, 130.9, 137.5, 143.2, 149.4, 151.1, 154.0, 154.6, 155.0, 155.1, 155.3, 155.7])"
   ]
  },
  {
   "cell_type": "code",
   "execution_count": 22,
   "metadata": {},
   "outputs": [
    {
     "data": {
      "text/plain": [
       "16"
      ]
     },
     "execution_count": 22,
     "metadata": {},
     "output_type": "execute_result"
    }
   ],
   "source": [
    "len(edades)"
   ]
  },
  {
   "cell_type": "code",
   "execution_count": 23,
   "metadata": {},
   "outputs": [
    {
     "data": {
      "text/plain": [
       "16"
      ]
     },
     "execution_count": 23,
     "metadata": {},
     "output_type": "execute_result"
    }
   ],
   "source": [
    "len(alturas)"
   ]
  },
  {
   "cell_type": "code",
   "execution_count": 24,
   "metadata": {},
   "outputs": [],
   "source": [
    "df_edades_alturas = pd.DataFrame({\n",
    "    'edad': edades,\n",
    "    'altura': alturas\n",
    "})"
   ]
  },
  {
   "cell_type": "code",
   "execution_count": 25,
   "metadata": {},
   "outputs": [
    {
     "data": {
      "text/html": [
       "<div>\n",
       "<style scoped>\n",
       "    .dataframe tbody tr th:only-of-type {\n",
       "        vertical-align: middle;\n",
       "    }\n",
       "\n",
       "    .dataframe tbody tr th {\n",
       "        vertical-align: top;\n",
       "    }\n",
       "\n",
       "    .dataframe thead th {\n",
       "        text-align: right;\n",
       "    }\n",
       "</style>\n",
       "<table border=\"1\" class=\"dataframe\">\n",
       "  <thead>\n",
       "    <tr style=\"text-align: right;\">\n",
       "      <th></th>\n",
       "      <th>edad</th>\n",
       "      <th>altura</th>\n",
       "    </tr>\n",
       "  </thead>\n",
       "  <tbody>\n",
       "    <tr>\n",
       "      <th>0</th>\n",
       "      <td>4</td>\n",
       "      <td>100.1</td>\n",
       "    </tr>\n",
       "    <tr>\n",
       "      <th>1</th>\n",
       "      <td>5</td>\n",
       "      <td>107.2</td>\n",
       "    </tr>\n",
       "    <tr>\n",
       "      <th>2</th>\n",
       "      <td>6</td>\n",
       "      <td>114.1</td>\n",
       "    </tr>\n",
       "    <tr>\n",
       "      <th>3</th>\n",
       "      <td>7</td>\n",
       "      <td>121.7</td>\n",
       "    </tr>\n",
       "    <tr>\n",
       "      <th>4</th>\n",
       "      <td>8</td>\n",
       "      <td>126.8</td>\n",
       "    </tr>\n",
       "  </tbody>\n",
       "</table>\n",
       "</div>"
      ],
      "text/plain": [
       "   edad  altura\n",
       "0     4   100.1\n",
       "1     5   107.2\n",
       "2     6   114.1\n",
       "3     7   121.7\n",
       "4     8   126.8"
      ]
     },
     "execution_count": 25,
     "metadata": {},
     "output_type": "execute_result"
    }
   ],
   "source": [
    "df_edades_alturas.head()"
   ]
  },
  {
   "cell_type": "code",
   "execution_count": 26,
   "metadata": {},
   "outputs": [
    {
     "data": {
      "text/plain": [
       "<matplotlib.collections.PathCollection at 0x7fc5f9b6ccc0>"
      ]
     },
     "execution_count": 26,
     "metadata": {},
     "output_type": "execute_result"
    },
    {
     "data": {
      "image/png": "[encoded data removed]",
      "text/plain": [
       "<Figure size 432x288 with 1 Axes>"
      ]
     },
     "metadata": {
      "needs_background": "light"
     },
     "output_type": "display_data"
    }
   ],
   "source": [
    "plt.scatter(df_edades_alturas.edad, df_edades_alturas.altura)"
   ]
  },
  {
   "cell_type": "markdown",
   "metadata": {},
   "source": [
    "La equacion de Regresion de la grafica anterior es $y = -(326.6/x)+173.3$ donde \"y\" es la altura y \"x\" la edad"
   ]
  },
  {
   "cell_type": "code",
   "execution_count": 27,
   "metadata": {},
   "outputs": [],
   "source": [
    "y = -(326.6/df_edades_alturas.edad) +173.3 # de momento no te preocupes por saber de donde sale esta ecuacion"
   ]
  },
  {
   "cell_type": "code",
   "execution_count": 28,
   "metadata": {},
   "outputs": [
    {
     "data": {
      "text/plain": [
       "0      91.650000\n",
       "1     107.980000\n",
       "2     118.866667\n",
       "3     126.642857\n",
       "4     132.475000\n",
       "5     137.011111\n",
       "6     140.640000\n",
       "7     143.609091\n",
       "8     146.083333\n",
       "9     148.176923\n",
       "10    149.971429\n",
       "11    151.526667\n",
       "12    152.887500\n",
       "13    154.088235\n",
       "14    155.155556\n",
       "15    156.110526\n",
       "Name: edad, dtype: float64"
      ]
     },
     "execution_count": 28,
     "metadata": {},
     "output_type": "execute_result"
    }
   ],
   "source": [
    "y"
   ]
  },
  {
   "cell_type": "code",
   "execution_count": 31,
   "metadata": {},
   "outputs": [
    {
     "data": {
      "text/plain": [
       "[<matplotlib.lines.Line2D at 0x7fc5f9a212e8>]"
      ]
     },
     "execution_count": 31,
     "metadata": {},
     "output_type": "execute_result"
    },
    {
     "data": {
      "image/png": "[encoded data removed]",
      "text/plain": [
       "<Figure size 432x288 with 1 Axes>"
      ]
     },
     "metadata": {
      "needs_background": "light"
     },
     "output_type": "display_data"
    }
   ],
   "source": [
    "plt.scatter(1/df_edades_alturas.edad, df_edades_alturas.altura) #convirtiendo una funcion no linear en linear\n",
    "plt.plot(1/df_edades_alturas.edad, y, color=\"red\")"
   ]
  },
  {
   "cell_type": "code",
   "execution_count": 30,
   "metadata": {},
   "outputs": [
    {
     "data": {
      "text/plain": [
       "[<matplotlib.lines.Line2D at 0x7fc5f9b27cf8>]"
      ]
     },
     "execution_count": 30,
     "metadata": {},
     "output_type": "execute_result"
    },
    {
     "data": {
      "image/png": "[encoded data removed]",
      "text/plain": [
       "<Figure size 432x288 with 1 Axes>"
      ]
     },
     "metadata": {
      "needs_background": "light"
     },
     "output_type": "display_data"
    }
   ],
   "source": [
    "plt.scatter(df_edades_alturas.edad, df_edades_alturas.altura)\n",
    "\n",
    "plt.plot(df_edades_alturas.edad, y, color=\"red\") # es la curva predice la altura en funcion de la edad con la ecuacion de regresion o el modelo"
   ]
  },
  {
   "cell_type": "markdown",
   "metadata": {},
   "source": [
    "La derivada de la ecuacion de regresion es $y`=326.6*(1/x^{2})$, recordar que la derivada es igual a la pendiente. La derivada representa el grado de crecimiento que tienes."
   ]
  },
  {
   "cell_type": "code",
   "execution_count": 297,
   "metadata": {},
   "outputs": [],
   "source": [
    "derivada =326.6*(1/df_edades_alturas.edad**(2))"
   ]
  },
  {
   "cell_type": "code",
   "execution_count": 298,
   "metadata": {},
   "outputs": [
    {
     "data": {
      "text/plain": [
       "0     20.412500\n",
       "1     13.064000\n",
       "2      9.072222\n",
       "3      6.665306\n",
       "4      5.103125\n",
       "5      4.032099\n",
       "6      3.266000\n",
       "7      2.699174\n",
       "8      2.268056\n",
       "9      1.932544\n",
       "10     1.666327\n",
       "11     1.451556\n",
       "12     1.275781\n",
       "13     1.130104\n",
       "14     1.008025\n",
       "15     0.904709\n",
       "Name: edad, dtype: float64"
      ]
     },
     "execution_count": 298,
     "metadata": {},
     "output_type": "execute_result"
    }
   ],
   "source": [
    "derivada # mientras pasan los años el grado de crecimiento en tu altura tiende a 0 y comienza a disminuir, la pendiente tiende  a 0. Osea dejas de crecer tan rapido."
   ]
  },
  {
   "cell_type": "code",
   "execution_count": 299,
   "metadata": {},
   "outputs": [
    {
     "data": {
      "text/plain": [
       "<matplotlib.collections.PathCollection at 0x7f1711e24128>"
      ]
     },
     "execution_count": 299,
     "metadata": {},
     "output_type": "execute_result"
    },
    {
     "data": {
      "image/png": "[encoded data removed]",
      "text/plain": [
       "<Figure size 432x288 with 1 Axes>"
      ]
     },
     "metadata": {
      "needs_background": "light"
     },
     "output_type": "display_data"
    }
   ],
   "source": [
    "\n",
    "plt.scatter(df_edades_alturas.edad, derivada, color=\"green\") # la grafica demuestra que mientras mas edad menos creces atraves de los años"
   ]
  },
  {
   "cell_type": "markdown",
   "metadata": {},
   "source": [
    "## Matrices:"
   ]
  },
  {
   "cell_type": "markdown",
   "metadata": {},
   "source": [
    "Las matrices son una forma de simplificar ecuaciones de multiple variables: $$ \\left( \\begin{array}{cccc}\n",
    "  x_1+2x_2 = -1\\\\\n",
    "  3x_1+4x_2=5\n",
    "\\end{array} \\right )$$"
   ]
  },
  {
   "cell_type": "markdown",
   "metadata": {},
   "source": [
    "La ecuaciones anteriores pueden ser escritas de la forma : $$ \\left( \\begin{array}{cccc}\n",
    "  1 & 2\\\\\n",
    "  3 & 4\n",
    "\\end{array} \\right ) \\left( \\begin{array}{cccc}\n",
    "  x_1\\\\\n",
    "  x_2\n",
    "\\end{array} \\right )=\\left( \\begin{array}{cccc}\n",
    "  -1\\\\\n",
    "  5\n",
    "\\end{array} \\right )$$"
   ]
  },
  {
   "cell_type": "markdown",
   "metadata": {},
   "source": [
    "### Suma de Matrices: $$ \\left( \\begin{array}{cccc}\n",
    "  5 & 1\\\\\n",
    "  6 & -9\n",
    "\\end{array} \\right )+\\left( \\begin{array}{cccc}\n",
    "  -1 & 3\\\\\n",
    "  -3 & 10\n",
    "\\end{array} \\right )=\\left( \\begin{array}{cccc}\n",
    "  4 & 4\\\\\n",
    "  3 & 1\n",
    "\\end{array} \\right )$$"
   ]
  },
  {
   "cell_type": "code",
   "execution_count": 300,
   "metadata": {},
   "outputs": [],
   "source": [
    "A = np.array([[5,6],[1,-9]])"
   ]
  },
  {
   "cell_type": "code",
   "execution_count": 301,
   "metadata": {},
   "outputs": [
    {
     "data": {
      "text/plain": [
       "array([[ 5,  6],\n",
       "       [ 1, -9]])"
      ]
     },
     "execution_count": 301,
     "metadata": {},
     "output_type": "execute_result"
    }
   ],
   "source": [
    "A"
   ]
  },
  {
   "cell_type": "code",
   "execution_count": 302,
   "metadata": {},
   "outputs": [],
   "source": [
    "B = np.array([[-1,-3],[3,10]])"
   ]
  },
  {
   "cell_type": "code",
   "execution_count": 303,
   "metadata": {},
   "outputs": [
    {
     "data": {
      "text/plain": [
       "array([[-1, -3],\n",
       "       [ 3, 10]])"
      ]
     },
     "execution_count": 303,
     "metadata": {},
     "output_type": "execute_result"
    }
   ],
   "source": [
    "B"
   ]
  },
  {
   "cell_type": "code",
   "execution_count": 304,
   "metadata": {},
   "outputs": [
    {
     "data": {
      "text/plain": [
       "array([[4, 3],\n",
       "       [4, 1]])"
      ]
     },
     "execution_count": 304,
     "metadata": {},
     "output_type": "execute_result"
    }
   ],
   "source": [
    "A + B"
   ]
  },
  {
   "cell_type": "markdown",
   "metadata": {},
   "source": [
    "### Multiplicacion de Matrices: $$ \\left( \\begin{array}{cccc}\n",
    "  1 & 2\\\\\n",
    "  3 & 4\n",
    "\\end{array} \\right )*\\left( \\begin{array}{cccc}\n",
    "  4 & 5\\\\\n",
    "  -2 & 4\n",
    "\\end{array} \\right )=\\left( \\begin{array}{cccc}\n",
    "  0 & 13\\\\\n",
    "  4 & 31\n",
    "\\end{array} \\right )$$"
   ]
  },
  {
   "cell_type": "code",
   "execution_count": 305,
   "metadata": {},
   "outputs": [],
   "source": [
    "A = np.array([[1,3],[2,4]])\n",
    "B = np.array([[4,-2],[5,4]])"
   ]
  },
  {
   "cell_type": "code",
   "execution_count": 306,
   "metadata": {},
   "outputs": [
    {
     "data": {
      "text/plain": [
       "array([[ 0, 13],\n",
       "       [ 4, 31]])"
      ]
     },
     "execution_count": 306,
     "metadata": {},
     "output_type": "execute_result"
    }
   ],
   "source": [
    "(B@A).T"
   ]
  },
  {
   "cell_type": "code",
   "execution_count": 307,
   "metadata": {},
   "outputs": [
    {
     "data": {
      "text/plain": [
       "array([[ 4, -6],\n",
       "       [10, 16]])"
      ]
     },
     "execution_count": 307,
     "metadata": {},
     "output_type": "execute_result"
    }
   ],
   "source": [
    "A*B"
   ]
  },
  {
   "cell_type": "code",
   "execution_count": 308,
   "metadata": {},
   "outputs": [
    {
     "data": {
      "text/plain": [
       "array([[19, 10],\n",
       "       [28, 12]])"
      ]
     },
     "execution_count": 308,
     "metadata": {},
     "output_type": "execute_result"
    }
   ],
   "source": [
    "A@B"
   ]
  },
  {
   "cell_type": "code",
   "execution_count": 309,
   "metadata": {},
   "outputs": [
    {
     "data": {
      "text/plain": [
       "array([[19, 10],\n",
       "       [28, 12]])"
      ]
     },
     "execution_count": 309,
     "metadata": {},
     "output_type": "execute_result"
    }
   ],
   "source": [
    "np.dot(A, B)"
   ]
  },
  {
   "cell_type": "code",
   "execution_count": 310,
   "metadata": {},
   "outputs": [
    {
     "data": {
      "text/plain": [
       "array([[ 4, -6],\n",
       "       [10, 16]])"
      ]
     },
     "execution_count": 310,
     "metadata": {},
     "output_type": "execute_result"
    }
   ],
   "source": [
    "np.multiply(A, B)"
   ]
  },
  {
   "cell_type": "code",
   "execution_count": 311,
   "metadata": {},
   "outputs": [],
   "source": [
    "A_m = np.matrix([[1,3],[2,4]])\n",
    "B_m = np.matrix([[4,-2],[5,4]])"
   ]
  },
  {
   "cell_type": "code",
   "execution_count": 312,
   "metadata": {},
   "outputs": [
    {
     "data": {
      "text/plain": [
       "matrix([[19, 10],\n",
       "        [28, 12]])"
      ]
     },
     "execution_count": 312,
     "metadata": {},
     "output_type": "execute_result"
    }
   ],
   "source": [
    "np.dot(A_m, B_m)"
   ]
  },
  {
   "cell_type": "code",
   "execution_count": 313,
   "metadata": {},
   "outputs": [
    {
     "data": {
      "text/plain": [
       "matrix([[ 4, -6],\n",
       "        [10, 16]])"
      ]
     },
     "execution_count": 313,
     "metadata": {},
     "output_type": "execute_result"
    }
   ],
   "source": [
    "np.multiply(A_m, B_m)"
   ]
  },
  {
   "cell_type": "code",
   "execution_count": 314,
   "metadata": {},
   "outputs": [
    {
     "data": {
      "text/plain": [
       "matrix([[19, 10],\n",
       "        [28, 12]])"
      ]
     },
     "execution_count": 314,
     "metadata": {},
     "output_type": "execute_result"
    }
   ],
   "source": [
    "A_m*B_m"
   ]
  },
  {
   "cell_type": "code",
   "execution_count": 315,
   "metadata": {},
   "outputs": [
    {
     "data": {
      "text/plain": [
       "matrix([[ 0, 13],\n",
       "        [ 4, 31]])"
      ]
     },
     "execution_count": 315,
     "metadata": {},
     "output_type": "execute_result"
    }
   ],
   "source": [
    "B_m.dot(A_m).T"
   ]
  },
  {
   "cell_type": "markdown",
   "metadata": {},
   "source": [
    "Nota: Ojo con la multiplicacion de matrices"
   ]
  },
  {
   "cell_type": "markdown",
   "metadata": {},
   "source": [
    "# Simple Regression Analysis"
   ]
  },
  {
   "cell_type": "code",
   "execution_count": 316,
   "metadata": {},
   "outputs": [],
   "source": [
    "fecha = np.array(['22nd Mon.','23rd Tues.','24th Wed.','25th Thurs.','26th Fri.','27th Sat.','28th Sun.','29th Mon.','30th Tues.','31st Wed.','1st Thurs.','2nd Fri.','3rd Sat.','4th Sun.'])\n",
    "high_temp = np.array([29,28,34,31,25,29,32,31,24,33,25,31,26,30])\n",
    "ice_tea_orders = np.array([77,62,93,84,59,64,80,75,58,91,51,73,65,84])"
   ]
  },
  {
   "cell_type": "code",
   "execution_count": 317,
   "metadata": {},
   "outputs": [],
   "source": [
    "df = pd.DataFrame({\n",
    "    'fecha':fecha,\n",
    "    'high_temp': high_temp,\n",
    "    'ice_tea_orders': ice_tea_orders\n",
    "    \n",
    "})"
   ]
  },
  {
   "cell_type": "code",
   "execution_count": 318,
   "metadata": {},
   "outputs": [
    {
     "data": {
      "text/html": [
       "<div>\n",
       "<style scoped>\n",
       "    .dataframe tbody tr th:only-of-type {\n",
       "        vertical-align: middle;\n",
       "    }\n",
       "\n",
       "    .dataframe tbody tr th {\n",
       "        vertical-align: top;\n",
       "    }\n",
       "\n",
       "    .dataframe thead th {\n",
       "        text-align: right;\n",
       "    }\n",
       "</style>\n",
       "<table border=\"1\" class=\"dataframe\">\n",
       "  <thead>\n",
       "    <tr style=\"text-align: right;\">\n",
       "      <th></th>\n",
       "      <th>fecha</th>\n",
       "      <th>high_temp</th>\n",
       "      <th>ice_tea_orders</th>\n",
       "    </tr>\n",
       "  </thead>\n",
       "  <tbody>\n",
       "    <tr>\n",
       "      <th>0</th>\n",
       "      <td>22nd Mon.</td>\n",
       "      <td>29</td>\n",
       "      <td>77</td>\n",
       "    </tr>\n",
       "    <tr>\n",
       "      <th>1</th>\n",
       "      <td>23rd Tues.</td>\n",
       "      <td>28</td>\n",
       "      <td>62</td>\n",
       "    </tr>\n",
       "    <tr>\n",
       "      <th>2</th>\n",
       "      <td>24th Wed.</td>\n",
       "      <td>34</td>\n",
       "      <td>93</td>\n",
       "    </tr>\n",
       "    <tr>\n",
       "      <th>3</th>\n",
       "      <td>25th Thurs.</td>\n",
       "      <td>31</td>\n",
       "      <td>84</td>\n",
       "    </tr>\n",
       "    <tr>\n",
       "      <th>4</th>\n",
       "      <td>26th Fri.</td>\n",
       "      <td>25</td>\n",
       "      <td>59</td>\n",
       "    </tr>\n",
       "  </tbody>\n",
       "</table>\n",
       "</div>"
      ],
      "text/plain": [
       "         fecha  high_temp  ice_tea_orders\n",
       "0    22nd Mon.         29              77\n",
       "1   23rd Tues.         28              62\n",
       "2    24th Wed.         34              93\n",
       "3  25th Thurs.         31              84\n",
       "4    26th Fri.         25              59"
      ]
     },
     "execution_count": 318,
     "metadata": {},
     "output_type": "execute_result"
    }
   ],
   "source": [
    "df.head()"
   ]
  },
  {
   "cell_type": "markdown",
   "metadata": {},
   "source": [
    "### General Regresion Analysis Procedure:\n",
    "* Step 1: Dibuja un Scatter plot de la varible independiente vs la variable  dependeiente, si los puntos parecen seguir formando una linea, la cosa va bien. Quiere decir que tienen alguna relacion.\n",
    "* Step 2: Cacula la ecuacion de regresion de la forma  $y= ax+b$\n",
    "* Step 3: Calcula el coeficiente de correlacion (R)\n",
    "* Step 4: Conduct the Analysis of Variance\n",
    "* Step 5: Calculate the cofidence Intervals\n",
    "* Step 6: Make prediction!\n"
   ]
  },
  {
   "cell_type": "markdown",
   "metadata": {},
   "source": [
    "#### Step 1: Scatter Plot"
   ]
  },
  {
   "cell_type": "code",
   "execution_count": 319,
   "metadata": {},
   "outputs": [
    {
     "data": {
      "image/png": "[encoded data removed]",
      "text/plain": [
       "<Figure size 432x288 with 1 Axes>"
      ]
     },
     "metadata": {
      "needs_background": "light"
     },
     "output_type": "display_data"
    }
   ],
   "source": [
    "fig, ax = plt.subplots()\n",
    "x = df['high_temp']\n",
    "y = df['ice_tea_orders']\n",
    "day = df['fecha']\n",
    "ax.scatter(x, y)\n",
    "\n",
    "plt.xlabel(\"High Temp\")\n",
    "plt.ylabel(\"Ice Tea Orders\")\n",
    "i= 0\n",
    "for txt in day:\n",
    "    ax.annotate(txt.split()[0],(x[i], y[i]))\n",
    "    i+=1"
   ]
  },
  {
   "cell_type": "markdown",
   "metadata": {},
   "source": [
    "#### Step 2: Calculate The regression ecuation"
   ]
  },
  {
   "cell_type": "markdown",
   "metadata": {},
   "source": [
    "Buscar la ecuacion $y= ax+b$ donde \"a\" es el Coeficiente de regresion y \"b\" la intercepcion de los ejes\n"
   ]
  },
  {
   "cell_type": "markdown",
   "metadata": {},
   "source": [
    "* Step 1: Calcular Sxx (Sum of squares of x), Syy (Sum of squares y), and Sxy (Sum of products of x and y)\n",
    "* Step 2: Calculate Se (Residual sum of Squares)\n",
    "* Step 3: Differentiate Se with respect to a and b, and set it equal to 0\n",
    "* Step 4: Separate out a and b\n",
    "* Step 5: Isolate the a component\n",
    "* Step 6: Find the regression equation"
   ]
  },
  {
   "cell_type": "markdown",
   "metadata": {},
   "source": [
    "####  Step 1 : Sxx, Syy, Sxy\n",
    "* $Sxx = (x- xmean)^2$\n",
    "* $Syy = (y- ymean)^2$\n",
    "* $Sxy = (x- xmean)*(y- ymean)$"
   ]
  },
  {
   "cell_type": "code",
   "execution_count": 320,
   "metadata": {},
   "outputs": [],
   "source": [
    "Sxx = np.power((x-x.mean()),2)"
   ]
  },
  {
   "cell_type": "code",
   "execution_count": 321,
   "metadata": {},
   "outputs": [
    {
     "data": {
      "text/plain": [
       "0      0.020408\n",
       "1      1.306122\n",
       "2     23.591837\n",
       "3      3.448980\n",
       "4     17.163265\n",
       "5      0.020408\n",
       "6      8.163265\n",
       "7      3.448980\n",
       "8     26.448980\n",
       "9     14.877551\n",
       "10    17.163265\n",
       "11     3.448980\n",
       "12     9.877551\n",
       "13     0.734694\n",
       "Name: high_temp, dtype: float64"
      ]
     },
     "execution_count": 321,
     "metadata": {},
     "output_type": "execute_result"
    }
   ],
   "source": [
    "Sxx"
   ]
  },
  {
   "cell_type": "code",
   "execution_count": 322,
   "metadata": {},
   "outputs": [],
   "source": [
    "Sxx_total= np.sum(Sxx)"
   ]
  },
  {
   "cell_type": "code",
   "execution_count": 323,
   "metadata": {},
   "outputs": [],
   "source": [
    "Syy = np.power((y-y.mean()),2)"
   ]
  },
  {
   "cell_type": "code",
   "execution_count": 324,
   "metadata": {},
   "outputs": [
    {
     "data": {
      "text/plain": [
       "0      19.612245\n",
       "1     111.755102\n",
       "2     417.326531\n",
       "3     130.612245\n",
       "4     184.183673\n",
       "5      73.469388\n",
       "6      55.183673\n",
       "7       5.897959\n",
       "8     212.326531\n",
       "9     339.612245\n",
       "10    465.326531\n",
       "11      0.183673\n",
       "12     57.326531\n",
       "13    130.612245\n",
       "Name: ice_tea_orders, dtype: float64"
      ]
     },
     "execution_count": 324,
     "metadata": {},
     "output_type": "execute_result"
    }
   ],
   "source": [
    "Syy"
   ]
  },
  {
   "cell_type": "code",
   "execution_count": 325,
   "metadata": {},
   "outputs": [],
   "source": [
    "Syy_total = np.sum(Syy)"
   ]
  },
  {
   "cell_type": "code",
   "execution_count": 326,
   "metadata": {},
   "outputs": [],
   "source": [
    "Sxy = (x-x.mean())*(y-y.mean())"
   ]
  },
  {
   "cell_type": "code",
   "execution_count": 327,
   "metadata": {},
   "outputs": [
    {
     "data": {
      "text/plain": [
       "0     -0.632653\n",
       "1     12.081633\n",
       "2     99.224490\n",
       "3     21.224490\n",
       "4     56.224490\n",
       "5      1.224490\n",
       "6     21.224490\n",
       "7      4.510204\n",
       "8     74.938776\n",
       "9     71.081633\n",
       "10    89.367347\n",
       "11     0.795918\n",
       "12    23.795918\n",
       "13     9.795918\n",
       "dtype: float64"
      ]
     },
     "execution_count": 327,
     "metadata": {},
     "output_type": "execute_result"
    }
   ],
   "source": [
    "Sxy"
   ]
  },
  {
   "cell_type": "code",
   "execution_count": 328,
   "metadata": {},
   "outputs": [],
   "source": [
    "Sxy_total = sum(Sxy)"
   ]
  },
  {
   "cell_type": "code",
   "execution_count": 329,
   "metadata": {},
   "outputs": [
    {
     "data": {
      "text/plain": [
       "484.85714285714283"
      ]
     },
     "execution_count": 329,
     "metadata": {},
     "output_type": "execute_result"
    }
   ],
   "source": [
    "Sxy_total"
   ]
  },
  {
   "cell_type": "code",
   "execution_count": 330,
   "metadata": {},
   "outputs": [],
   "source": [
    "x_mean = x.mean()\n",
    "y_mean = y.mean()"
   ]
  },
  {
   "cell_type": "markdown",
   "metadata": {},
   "source": [
    "#### Step 2-3-4-5 : Find the residual sum of square, Se:\n",
    "* y es el valor observado\n",
    "* y_estimado es el valor estimado basado en nuestra regresion\n",
    "* y - y_estimado es llamado el residual  y se conoce como e\n",
    "\n",
    "the relationship between the residuals and the slope a and intercept b is always:\n",
    "* $a = Sxytotal / Sxxtotal$\n",
    "* $b= ymean - xmean * a$\n",
    "* Nota: this is true for any linear regression.\n"
   ]
  },
  {
   "cell_type": "code",
   "execution_count": 331,
   "metadata": {},
   "outputs": [],
   "source": [
    "y_observado = y\n",
    "a = Sxy_total/ Sxx_total\n",
    "b = y_mean - x_mean * a"
   ]
  },
  {
   "cell_type": "code",
   "execution_count": 332,
   "metadata": {},
   "outputs": [],
   "source": [
    "y_estimado = a*x+b\n",
    "Se = np.sum(np.power(y- y_estimado,2))"
   ]
  },
  {
   "cell_type": "code",
   "execution_count": 333,
   "metadata": {},
   "outputs": [
    {
     "data": {
      "text/plain": [
       "391.0881057268722"
      ]
     },
     "execution_count": 333,
     "metadata": {},
     "output_type": "execute_result"
    }
   ],
   "source": [
    "Se"
   ]
  },
  {
   "cell_type": "code",
   "execution_count": 334,
   "metadata": {},
   "outputs": [
    {
     "data": {
      "text/plain": [
       "0     72.037445\n",
       "1     68.299559\n",
       "2     90.726872\n",
       "3     79.513216\n",
       "4     57.085903\n",
       "5     72.037445\n",
       "6     83.251101\n",
       "7     79.513216\n",
       "8     53.348018\n",
       "9     86.988987\n",
       "10    57.085903\n",
       "11    79.513216\n",
       "12    60.823789\n",
       "13    75.775330\n",
       "Name: high_temp, dtype: float64"
      ]
     },
     "execution_count": 334,
     "metadata": {},
     "output_type": "execute_result"
    }
   ],
   "source": [
    "y_estimado"
   ]
  },
  {
   "cell_type": "code",
   "execution_count": 335,
   "metadata": {},
   "outputs": [
    {
     "data": {
      "image/png": "[encoded data removed]",
      "text/plain": [
       "<Figure size 432x288 with 1 Axes>"
      ]
     },
     "metadata": {
      "needs_background": "light"
     },
     "output_type": "display_data"
    }
   ],
   "source": [
    "fig, ax = plt.subplots()\n",
    "x = df['high_temp']\n",
    "y = df['ice_tea_orders']\n",
    "day = df['fecha']\n",
    "ax.scatter(x, y)\n",
    "\n",
    "#Agrego y estimado para la linea\n",
    "plt.plot(x,y_estimado, color=\"red\")\n",
    "\n",
    "plt.xlabel(\"High Temp\")\n",
    "plt.ylabel(\"Ice Tea Orders\")\n",
    "i= 0\n",
    "for txt in day:\n",
    "    ax.annotate(txt.split()[0],(x[i], y[i]))\n",
    "    i+=1"
   ]
  },
  {
   "cell_type": "markdown",
   "metadata": {},
   "source": [
    "#### Step 6 Correlation Coeffcient R:\n",
    "R is also called the pearson product moment correlation coefficientin honor of mathematician karl pearson.\n",
    "* R= suma del producto de y y y_estimado, dividido por la raiz cuadrada de la multiplicacion de Syy y Sy_esty_est"
   ]
  },
  {
   "cell_type": "code",
   "execution_count": 336,
   "metadata": {},
   "outputs": [],
   "source": [
    "Sy_esty_est_total=np.sum(np.power((y_estimado - y_estimado.mean()),2))\n",
    "Syy_total = Syy_total\n",
    "Syy_estimado_total= np.sum((y-y.mean())*(y_estimado - y_estimado.mean()))"
   ]
  },
  {
   "cell_type": "code",
   "execution_count": 337,
   "metadata": {},
   "outputs": [],
   "source": [
    "R= Sy_esty_est_total/(np.sqrt(Syy_total*Syy_estimado_total))"
   ]
  },
  {
   "cell_type": "code",
   "execution_count": 338,
   "metadata": {},
   "outputs": [
    {
     "data": {
      "text/plain": [
       "0.9069229780508897"
      ]
     },
     "execution_count": 338,
     "metadata": {},
     "output_type": "execute_result"
    }
   ],
   "source": [
    "R"
   ]
  },
  {
   "cell_type": "markdown",
   "metadata": {},
   "source": [
    "#### Coeficiente de Determination $R^2= R*R$, si el resultado es mayor a 0.5 el modelo es muy bueno."
   ]
  },
  {
   "cell_type": "code",
   "execution_count": 339,
   "metadata": {},
   "outputs": [
    {
     "data": {
      "text/plain": [
       "0.8225092881166947"
      ]
     },
     "execution_count": 339,
     "metadata": {},
     "output_type": "execute_result"
    }
   ],
   "source": [
    "RD= R*R\n",
    "RD"
   ]
  },
  {
   "cell_type": "markdown",
   "metadata": {},
   "source": [
    "#### Otra forma de calcular el coeficiente de Determinancion $R^2 = a*Sxy/Syy$"
   ]
  },
  {
   "cell_type": "code",
   "execution_count": 340,
   "metadata": {},
   "outputs": [],
   "source": [
    "RD = a* Sxy_total/Syy_total"
   ]
  },
  {
   "cell_type": "code",
   "execution_count": 341,
   "metadata": {},
   "outputs": [
    {
     "data": {
      "text/plain": [
       "0.8225092881166943"
      ]
     },
     "execution_count": 341,
     "metadata": {},
     "output_type": "execute_result"
    }
   ],
   "source": [
    "RD"
   ]
  },
  {
   "cell_type": "markdown",
   "metadata": {},
   "source": [
    "# Samples and Population\n",
    "* Mi poblacion son todos los datos asumidos en el estudio\n",
    "* Tomare una muestra los dias que posean una temeratura mayor a 31: Estos son  29th, 25th y 2nd."
   ]
  },
  {
   "cell_type": "code",
   "execution_count": 342,
   "metadata": {},
   "outputs": [],
   "source": [
    "df_muestra = df[df['high_temp']==31]"
   ]
  },
  {
   "cell_type": "code",
   "execution_count": 343,
   "metadata": {},
   "outputs": [
    {
     "data": {
      "text/plain": [
       "[<matplotlib.lines.Line2D at 0x7f1712424240>]"
      ]
     },
     "execution_count": 343,
     "metadata": {},
     "output_type": "execute_result"
    },
    {
     "data": {
      "image/png": "[encoded data removed]",
      "text/plain": [
       "<Figure size 432x288 with 1 Axes>"
      ]
     },
     "metadata": {
      "needs_background": "light"
     },
     "output_type": "display_data"
    }
   ],
   "source": [
    "plt.plot(df_muestra['high_temp'],df_muestra['fecha'], 'bo')"
   ]
  },
  {
   "cell_type": "markdown",
   "metadata": {},
   "source": [
    "# Assumptions of Normality\n",
    "A regression equation is meaningful only if a certain hypothesis is viable.\n",
    "\n",
    "* Alternative hypothesis: the number of orders of iced tea on days with temperature x °C follows a normal distribution with mean Ax + B and standard deviation σ (sigma).\n",
    "\n"
   ]
  },
  {
   "cell_type": "code",
   "execution_count": 344,
   "metadata": {},
   "outputs": [],
   "source": [
    "A = a #apoximadamente\n",
    "B = b #aproximadamente\n",
    "distribucionStandard = np.sqrt(Se/(len(df)-2))"
   ]
  },
  {
   "cell_type": "code",
   "execution_count": 345,
   "metadata": {},
   "outputs": [
    {
     "data": {
      "text/plain": [
       "5.708824351584076"
      ]
     },
     "execution_count": 345,
     "metadata": {},
     "output_type": "execute_result"
    }
   ],
   "source": [
    "distribucionStandard"
   ]
  },
  {
   "cell_type": "markdown",
   "metadata": {},
   "source": [
    "* null hypothesis:\n",
    "The numbers of orders or Iced tea on days with high temperature xC follows a normal distribution with mean B and Standar Deviation, A is absent"
   ]
  },
  {
   "cell_type": "code",
   "execution_count": null,
   "metadata": {},
   "outputs": [],
   "source": [
    "\n"
   ]
  }
 ],
 "metadata": {
  "kernelspec": {
   "display_name": "Python 3",
   "language": "python",
   "name": "python3"
  },
  "language_info": {
   "codemirror_mode": {
    "name": "ipython",
    "version": 3
   },
   "file_extension": ".py",
   "mimetype": "text/x-python",
   "name": "python",
   "nbconvert_exporter": "python",
   "pygments_lexer": "ipython3",
   "version": "3.6.7"
  }
 },
 "nbformat": 4,
 "nbformat_minor": 4
}
